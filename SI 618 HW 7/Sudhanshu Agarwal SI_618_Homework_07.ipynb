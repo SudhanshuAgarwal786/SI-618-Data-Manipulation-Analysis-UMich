{
 "cells": [
  {
   "cell_type": "markdown",
   "metadata": {},
   "source": [
    "# SI 618 - Homework #7: Classifiers\n",
    "or: How I Learned to Stop Worrying and Love Machine Learning\n",
    "\n",
    "Version 2023.11.08.1.CT"
   ]
  },
  {
   "cell_type": "markdown",
   "metadata": {},
   "source": [
    "This is, perhaps, one of the most exciting homework assignments that you have encountered in this course!\n",
    "\n",
    "You are going to try your hand at a Kaggle competition to predict which passengers on board the Spaceship Titanic are transported to an alternate dimension.\n",
    "\n",
    "You can access the competition here: **https://www.kaggle.com/c/spaceship-titanic**\n",
    "\n",
    "This assignment is similar to the Kaggle competition that we did in class, but it uses a different and larger dataset.\n",
    "\n",
    "The basic steps for this assignment are the same as what we did in class:\n",
    "\n",
    "1. Accept the rules and join the competition\n",
    "2. Download the data (from the data tab of the competition page)\n",
    "3. Understand the problem\n",
    "4. EDA (Exploratory Data Analysis)\n",
    "5. Train, tune, and ensemble (!) your machine learning models\n",
    "6. Upload your prediction as a submission on Kaggle and receive an accuracy score\n",
    "\n",
    "additionally, you will\n",
    "\n",
    "7. Upload your final notebook to Canvas and report your best accuracy score.  \n",
    "\n",
    "Note that class grades are not entirely dependent on your accuracy score.  \n",
    "All models that achieve 80% accuracy will receive full points for \n",
    "the accuracy component of this assignment.\n",
    "\n",
    "Rubric:\n",
    "\n",
    "1. (20 points) Conduct an EDA. You must demonstrate that you understand the data and the problem.\n",
    "2. (60 points) Train, tune, and ensemble machine learning models.  You must use at least 3 different models, and you must ensemble them in some way.  You must also tune your models to improve accuracy.\n",
    "4. (10 points) Accuracy score based on Kaggle submission report (or alternative, see NOTE above).\n",
    "5. (10 points) PEP-8, grammar, spelling, style, etc.\n",
    "\n",
    "Some additional notes:\n",
    "\n",
    "1. If you use another notebook, code, or approaches be sure to reference the original work. (Note that we recommend you study existing Kaggle notebooks before starting your own work.)\n",
    "2. You can help each other but in the end you must submit your own work, both to Kaggle and to Canvas.\n",
    "\n",
    "Some additional resources:\n",
    "\n",
    "* \"ensemble\" your models with a [VotingClassifier](https://scikit-learn.org/stable/modules/generated/sklearn.ensemble.VotingClassifier.html)\n",
    "* a good primer on [feature engineering](https://triangleinequality.wordpress.com/2013/09/08/basic-feature-engineering-with-the-titanic-data/)\n",
    "* There are a lot of good [notebooks to study](https://www.kaggle.com/competitions/spaceship-titanic/code) (check the number of upvotes to help guide your exploration), but be careful to cite any code that you use, and be careful to not accidentally (or intentionally) cheat.\n",
    "\n",
    "## GOOD LUCK!\n",
    "(and don't cheat)"
   ]
  },
  {
   "cell_type": "markdown",
   "metadata": {},
   "source": [
    "One final note:  Your submission should be a self-contained notebook that is NOT based\n",
    "on this one.  Studying the existing Kaggle competition notebooks should \n",
    "give you a sense of what makes a \"good\" notebook."
   ]
  },
  {
   "cell_type": "code",
   "execution_count": 1,
   "metadata": {},
   "outputs": [],
   "source": [
    "import pandas as pd\n",
    "import numpy as np\n",
    "import matplotlib.pylab as plt\n",
    "import seaborn as sns\n",
    "from sklearn.model_selection import train_test_split\n",
    "from sklearn.neural_network import MLPClassifier\n",
    "from sklearn.gaussian_process import GaussianProcessClassifier\n",
    "from sklearn.gaussian_process.kernels import RBF\n",
    "from sklearn.tree import DecisionTreeClassifier\n",
    "from sklearn.ensemble import AdaBoostClassifier\n",
    "from sklearn.naive_bayes import GaussianNB\n",
    "from sklearn.metrics import mean_absolute_error\n",
    "from sklearn.model_selection import cross_val_score\n",
    "from sklearn.compose import ColumnTransformer\n",
    "from sklearn.pipeline import Pipeline\n",
    "from sklearn.impute import SimpleImputer\n",
    "from sklearn.preprocessing import StandardScaler, OneHotEncoder\n",
    "from sklearn.ensemble import RandomForestClassifier, VotingClassifier\n",
    "from sklearn.svm import SVC\n",
    "from xgboost import XGBClassifier\n",
    "from sklearn.linear_model import LogisticRegression\n",
    "from sklearn.neighbors import KNeighborsClassifier\n",
    "from sklearn.model_selection import GridSearchCV\n",
    "from sklearn.metrics import accuracy_score"
   ]
  },
  {
   "cell_type": "markdown",
   "metadata": {},
   "source": [
    "### <span style=\"color:red\">Loading the data & performing EDA - </span>"
   ]
  },
  {
   "cell_type": "code",
   "execution_count": 2,
   "metadata": {},
   "outputs": [],
   "source": [
    "train = pd.read_csv(\"train.csv\")\n",
    "test = pd.read_csv(\"test.csv\")"
   ]
  },
  {
   "cell_type": "code",
   "execution_count": 3,
   "metadata": {},
   "outputs": [],
   "source": [
    "sample = pd.read_csv('sample_submission.csv')"
   ]
  },
  {
   "cell_type": "code",
   "execution_count": 4,
   "metadata": {},
   "outputs": [
    {
     "data": {
      "text/html": [
       "<div>\n",
       "<style scoped>\n",
       "    .dataframe tbody tr th:only-of-type {\n",
       "        vertical-align: middle;\n",
       "    }\n",
       "\n",
       "    .dataframe tbody tr th {\n",
       "        vertical-align: top;\n",
       "    }\n",
       "\n",
       "    .dataframe thead th {\n",
       "        text-align: right;\n",
       "    }\n",
       "</style>\n",
       "<table border=\"1\" class=\"dataframe\">\n",
       "  <thead>\n",
       "    <tr style=\"text-align: right;\">\n",
       "      <th></th>\n",
       "      <th>PassengerId</th>\n",
       "      <th>HomePlanet</th>\n",
       "      <th>CryoSleep</th>\n",
       "      <th>Cabin</th>\n",
       "      <th>Destination</th>\n",
       "      <th>Age</th>\n",
       "      <th>VIP</th>\n",
       "      <th>RoomService</th>\n",
       "      <th>FoodCourt</th>\n",
       "      <th>ShoppingMall</th>\n",
       "      <th>Spa</th>\n",
       "      <th>VRDeck</th>\n",
       "      <th>Name</th>\n",
       "      <th>Transported</th>\n",
       "    </tr>\n",
       "  </thead>\n",
       "  <tbody>\n",
       "    <tr>\n",
       "      <th>8621</th>\n",
       "      <td>9197_02</td>\n",
       "      <td>Europa</td>\n",
       "      <td>False</td>\n",
       "      <td>C/308/P</td>\n",
       "      <td>NaN</td>\n",
       "      <td>41.0</td>\n",
       "      <td>True</td>\n",
       "      <td>0.0</td>\n",
       "      <td>7964.0</td>\n",
       "      <td>0.0</td>\n",
       "      <td>3238.0</td>\n",
       "      <td>5839.0</td>\n",
       "      <td>Aludram Platch</td>\n",
       "      <td>False</td>\n",
       "    </tr>\n",
       "    <tr>\n",
       "      <th>4328</th>\n",
       "      <td>4611_01</td>\n",
       "      <td>Earth</td>\n",
       "      <td>True</td>\n",
       "      <td>G/754/S</td>\n",
       "      <td>TRAPPIST-1e</td>\n",
       "      <td>23.0</td>\n",
       "      <td>False</td>\n",
       "      <td>0.0</td>\n",
       "      <td>0.0</td>\n",
       "      <td>0.0</td>\n",
       "      <td>0.0</td>\n",
       "      <td>0.0</td>\n",
       "      <td>Ronard Hickson</td>\n",
       "      <td>True</td>\n",
       "    </tr>\n",
       "    <tr>\n",
       "      <th>6588</th>\n",
       "      <td>6951_01</td>\n",
       "      <td>Europa</td>\n",
       "      <td>False</td>\n",
       "      <td>D/219/P</td>\n",
       "      <td>TRAPPIST-1e</td>\n",
       "      <td>37.0</td>\n",
       "      <td>False</td>\n",
       "      <td>26.0</td>\n",
       "      <td>2898.0</td>\n",
       "      <td>9.0</td>\n",
       "      <td>0.0</td>\n",
       "      <td>40.0</td>\n",
       "      <td>Vegas Lendly</td>\n",
       "      <td>True</td>\n",
       "    </tr>\n",
       "    <tr>\n",
       "      <th>3882</th>\n",
       "      <td>4167_01</td>\n",
       "      <td>Earth</td>\n",
       "      <td>False</td>\n",
       "      <td>NaN</td>\n",
       "      <td>PSO J318.5-22</td>\n",
       "      <td>NaN</td>\n",
       "      <td>NaN</td>\n",
       "      <td>0.0</td>\n",
       "      <td>440.0</td>\n",
       "      <td>0.0</td>\n",
       "      <td>0.0</td>\n",
       "      <td>334.0</td>\n",
       "      <td>Ninaha Deckerson</td>\n",
       "      <td>False</td>\n",
       "    </tr>\n",
       "    <tr>\n",
       "      <th>5100</th>\n",
       "      <td>5450_01</td>\n",
       "      <td>Earth</td>\n",
       "      <td>True</td>\n",
       "      <td>G/877/P</td>\n",
       "      <td>PSO J318.5-22</td>\n",
       "      <td>16.0</td>\n",
       "      <td>False</td>\n",
       "      <td>0.0</td>\n",
       "      <td>0.0</td>\n",
       "      <td>0.0</td>\n",
       "      <td>0.0</td>\n",
       "      <td>0.0</td>\n",
       "      <td>Samany Keithunts</td>\n",
       "      <td>True</td>\n",
       "    </tr>\n",
       "  </tbody>\n",
       "</table>\n",
       "</div>"
      ],
      "text/plain": [
       "     PassengerId HomePlanet CryoSleep    Cabin    Destination   Age    VIP  \\\n",
       "8621     9197_02     Europa     False  C/308/P            NaN  41.0   True   \n",
       "4328     4611_01      Earth      True  G/754/S    TRAPPIST-1e  23.0  False   \n",
       "6588     6951_01     Europa     False  D/219/P    TRAPPIST-1e  37.0  False   \n",
       "3882     4167_01      Earth     False      NaN  PSO J318.5-22   NaN    NaN   \n",
       "5100     5450_01      Earth      True  G/877/P  PSO J318.5-22  16.0  False   \n",
       "\n",
       "      RoomService  FoodCourt  ShoppingMall     Spa  VRDeck              Name  \\\n",
       "8621          0.0     7964.0           0.0  3238.0  5839.0    Aludram Platch   \n",
       "4328          0.0        0.0           0.0     0.0     0.0    Ronard Hickson   \n",
       "6588         26.0     2898.0           9.0     0.0    40.0      Vegas Lendly   \n",
       "3882          0.0      440.0           0.0     0.0   334.0  Ninaha Deckerson   \n",
       "5100          0.0        0.0           0.0     0.0     0.0  Samany Keithunts   \n",
       "\n",
       "      Transported  \n",
       "8621        False  \n",
       "4328         True  \n",
       "6588         True  \n",
       "3882        False  \n",
       "5100         True  "
      ]
     },
     "execution_count": 4,
     "metadata": {},
     "output_type": "execute_result"
    }
   ],
   "source": [
    "train.sample(5)"
   ]
  },
  {
   "cell_type": "code",
   "execution_count": 5,
   "metadata": {},
   "outputs": [
    {
     "data": {
      "text/plain": [
       "PassengerId      object\n",
       "HomePlanet       object\n",
       "CryoSleep        object\n",
       "Cabin            object\n",
       "Destination      object\n",
       "Age             float64\n",
       "VIP              object\n",
       "RoomService     float64\n",
       "FoodCourt       float64\n",
       "ShoppingMall    float64\n",
       "Spa             float64\n",
       "VRDeck          float64\n",
       "Name             object\n",
       "Transported        bool\n",
       "dtype: object"
      ]
     },
     "execution_count": 5,
     "metadata": {},
     "output_type": "execute_result"
    }
   ],
   "source": [
    "# Determining which fields are categorical and which are numerical\n",
    "train.dtypes"
   ]
  },
  {
   "cell_type": "code",
   "execution_count": 6,
   "metadata": {},
   "outputs": [
    {
     "data": {
      "text/plain": [
       "0"
      ]
     },
     "execution_count": 6,
     "metadata": {},
     "output_type": "execute_result"
    }
   ],
   "source": [
    "# Checking for duplicates\n",
    "train.duplicated().sum()"
   ]
  },
  {
   "cell_type": "code",
   "execution_count": 7,
   "metadata": {},
   "outputs": [
    {
     "data": {
      "text/plain": [
       "PassengerId     False\n",
       "HomePlanet       True\n",
       "CryoSleep        True\n",
       "Cabin            True\n",
       "Destination      True\n",
       "Age              True\n",
       "VIP              True\n",
       "RoomService      True\n",
       "FoodCourt        True\n",
       "ShoppingMall     True\n",
       "Spa              True\n",
       "VRDeck           True\n",
       "Name             True\n",
       "Transported     False\n",
       "dtype: bool"
      ]
     },
     "execution_count": 7,
     "metadata": {},
     "output_type": "execute_result"
    }
   ],
   "source": [
    "#Checking for null values\n",
    "train.isna().any()"
   ]
  },
  {
   "cell_type": "code",
   "execution_count": 8,
   "metadata": {},
   "outputs": [],
   "source": [
    "# Splitting the 'Cabin' column into 'Deck', 'CabinNum', 'Side' in Train data\n",
    "train[[\"Deck\", \"CabinNum\", \"Side\"]] = train[\"Cabin\"].str.split(\"/\", expand=True)\n",
    "train.drop('Cabin', axis=1, inplace=True)"
   ]
  },
  {
   "cell_type": "code",
   "execution_count": 9,
   "metadata": {},
   "outputs": [],
   "source": [
    "# Splitting the 'Cabin' column into 'Deck', 'CabinNum', 'Side' in Test Data\n",
    "test[[\"Deck\", \"CabinNum\", \"Side\"]] = test[\"Cabin\"].str.split(\"/\", expand=True)\n",
    "test.drop('Cabin', axis=1, inplace=True)"
   ]
  },
  {
   "cell_type": "code",
   "execution_count": 10,
   "metadata": {},
   "outputs": [
    {
     "data": {
      "text/html": [
       "<div>\n",
       "<style scoped>\n",
       "    .dataframe tbody tr th:only-of-type {\n",
       "        vertical-align: middle;\n",
       "    }\n",
       "\n",
       "    .dataframe tbody tr th {\n",
       "        vertical-align: top;\n",
       "    }\n",
       "\n",
       "    .dataframe thead th {\n",
       "        text-align: right;\n",
       "    }\n",
       "</style>\n",
       "<table border=\"1\" class=\"dataframe\">\n",
       "  <thead>\n",
       "    <tr style=\"text-align: right;\">\n",
       "      <th></th>\n",
       "      <th>PassengerId</th>\n",
       "      <th>HomePlanet</th>\n",
       "      <th>CryoSleep</th>\n",
       "      <th>Destination</th>\n",
       "      <th>Age</th>\n",
       "      <th>VIP</th>\n",
       "      <th>RoomService</th>\n",
       "      <th>FoodCourt</th>\n",
       "      <th>ShoppingMall</th>\n",
       "      <th>Spa</th>\n",
       "      <th>VRDeck</th>\n",
       "      <th>Name</th>\n",
       "      <th>Transported</th>\n",
       "      <th>Deck</th>\n",
       "      <th>CabinNum</th>\n",
       "      <th>Side</th>\n",
       "    </tr>\n",
       "  </thead>\n",
       "  <tbody>\n",
       "    <tr>\n",
       "      <th>6494</th>\n",
       "      <td>6857_01</td>\n",
       "      <td>Earth</td>\n",
       "      <td>False</td>\n",
       "      <td>PSO J318.5-22</td>\n",
       "      <td>35.0</td>\n",
       "      <td>False</td>\n",
       "      <td>22.0</td>\n",
       "      <td>0.0</td>\n",
       "      <td>1179.0</td>\n",
       "      <td>0.0</td>\n",
       "      <td>33.0</td>\n",
       "      <td>Jenn Jenson</td>\n",
       "      <td>False</td>\n",
       "      <td>F</td>\n",
       "      <td>1310</td>\n",
       "      <td>S</td>\n",
       "    </tr>\n",
       "    <tr>\n",
       "      <th>5031</th>\n",
       "      <td>5378_01</td>\n",
       "      <td>Europa</td>\n",
       "      <td>False</td>\n",
       "      <td>TRAPPIST-1e</td>\n",
       "      <td>30.0</td>\n",
       "      <td>False</td>\n",
       "      <td>0.0</td>\n",
       "      <td>95.0</td>\n",
       "      <td>0.0</td>\n",
       "      <td>1202.0</td>\n",
       "      <td>5558.0</td>\n",
       "      <td>Cellum Alenter</td>\n",
       "      <td>False</td>\n",
       "      <td>C</td>\n",
       "      <td>173</td>\n",
       "      <td>P</td>\n",
       "    </tr>\n",
       "    <tr>\n",
       "      <th>6768</th>\n",
       "      <td>7148_01</td>\n",
       "      <td>Europa</td>\n",
       "      <td>False</td>\n",
       "      <td>55 Cancri e</td>\n",
       "      <td>51.0</td>\n",
       "      <td>True</td>\n",
       "      <td>0.0</td>\n",
       "      <td>287.0</td>\n",
       "      <td>0.0</td>\n",
       "      <td>1442.0</td>\n",
       "      <td>66.0</td>\n",
       "      <td>Ranark Patimonne</td>\n",
       "      <td>True</td>\n",
       "      <td>A</td>\n",
       "      <td>87</td>\n",
       "      <td>S</td>\n",
       "    </tr>\n",
       "    <tr>\n",
       "      <th>3962</th>\n",
       "      <td>4223_02</td>\n",
       "      <td>Mars</td>\n",
       "      <td>False</td>\n",
       "      <td>55 Cancri e</td>\n",
       "      <td>24.0</td>\n",
       "      <td>False</td>\n",
       "      <td>469.0</td>\n",
       "      <td>0.0</td>\n",
       "      <td>NaN</td>\n",
       "      <td>196.0</td>\n",
       "      <td>0.0</td>\n",
       "      <td>Dous Grean</td>\n",
       "      <td>True</td>\n",
       "      <td>E</td>\n",
       "      <td>275</td>\n",
       "      <td>S</td>\n",
       "    </tr>\n",
       "    <tr>\n",
       "      <th>6335</th>\n",
       "      <td>6706_01</td>\n",
       "      <td>Europa</td>\n",
       "      <td>True</td>\n",
       "      <td>TRAPPIST-1e</td>\n",
       "      <td>21.0</td>\n",
       "      <td>False</td>\n",
       "      <td>0.0</td>\n",
       "      <td>0.0</td>\n",
       "      <td>0.0</td>\n",
       "      <td>0.0</td>\n",
       "      <td>0.0</td>\n",
       "      <td>Asellah Dishocatal</td>\n",
       "      <td>True</td>\n",
       "      <td>B</td>\n",
       "      <td>224</td>\n",
       "      <td>P</td>\n",
       "    </tr>\n",
       "  </tbody>\n",
       "</table>\n",
       "</div>"
      ],
      "text/plain": [
       "     PassengerId HomePlanet CryoSleep    Destination   Age    VIP  \\\n",
       "6494     6857_01      Earth     False  PSO J318.5-22  35.0  False   \n",
       "5031     5378_01     Europa     False    TRAPPIST-1e  30.0  False   \n",
       "6768     7148_01     Europa     False    55 Cancri e  51.0   True   \n",
       "3962     4223_02       Mars     False    55 Cancri e  24.0  False   \n",
       "6335     6706_01     Europa      True    TRAPPIST-1e  21.0  False   \n",
       "\n",
       "      RoomService  FoodCourt  ShoppingMall     Spa  VRDeck  \\\n",
       "6494         22.0        0.0        1179.0     0.0    33.0   \n",
       "5031          0.0       95.0           0.0  1202.0  5558.0   \n",
       "6768          0.0      287.0           0.0  1442.0    66.0   \n",
       "3962        469.0        0.0           NaN   196.0     0.0   \n",
       "6335          0.0        0.0           0.0     0.0     0.0   \n",
       "\n",
       "                    Name  Transported Deck CabinNum Side  \n",
       "6494         Jenn Jenson        False    F     1310    S  \n",
       "5031      Cellum Alenter        False    C      173    P  \n",
       "6768    Ranark Patimonne         True    A       87    S  \n",
       "3962          Dous Grean         True    E      275    S  \n",
       "6335  Asellah Dishocatal         True    B      224    P  "
      ]
     },
     "execution_count": 10,
     "metadata": {},
     "output_type": "execute_result"
    }
   ],
   "source": [
    "train.sample(5)"
   ]
  },
  {
   "cell_type": "code",
   "execution_count": 11,
   "metadata": {},
   "outputs": [
    {
     "data": {
      "text/html": [
       "<div>\n",
       "<style scoped>\n",
       "    .dataframe tbody tr th:only-of-type {\n",
       "        vertical-align: middle;\n",
       "    }\n",
       "\n",
       "    .dataframe tbody tr th {\n",
       "        vertical-align: top;\n",
       "    }\n",
       "\n",
       "    .dataframe thead th {\n",
       "        text-align: right;\n",
       "    }\n",
       "</style>\n",
       "<table border=\"1\" class=\"dataframe\">\n",
       "  <thead>\n",
       "    <tr style=\"text-align: right;\">\n",
       "      <th></th>\n",
       "      <th>PassengerId</th>\n",
       "      <th>HomePlanet</th>\n",
       "      <th>CryoSleep</th>\n",
       "      <th>Destination</th>\n",
       "      <th>Age</th>\n",
       "      <th>VIP</th>\n",
       "      <th>RoomService</th>\n",
       "      <th>FoodCourt</th>\n",
       "      <th>ShoppingMall</th>\n",
       "      <th>Spa</th>\n",
       "      <th>VRDeck</th>\n",
       "      <th>Name</th>\n",
       "      <th>Deck</th>\n",
       "      <th>CabinNum</th>\n",
       "      <th>Side</th>\n",
       "    </tr>\n",
       "  </thead>\n",
       "  <tbody>\n",
       "    <tr>\n",
       "      <th>3353</th>\n",
       "      <td>7348_02</td>\n",
       "      <td>Mars</td>\n",
       "      <td>True</td>\n",
       "      <td>55 Cancri e</td>\n",
       "      <td>0.0</td>\n",
       "      <td>False</td>\n",
       "      <td>0.0</td>\n",
       "      <td>0.0</td>\n",
       "      <td>0.0</td>\n",
       "      <td>0.0</td>\n",
       "      <td>0.0</td>\n",
       "      <td>Pebix Coune</td>\n",
       "      <td>F</td>\n",
       "      <td>1414</td>\n",
       "      <td>S</td>\n",
       "    </tr>\n",
       "    <tr>\n",
       "      <th>3122</th>\n",
       "      <td>6838_03</td>\n",
       "      <td>Europa</td>\n",
       "      <td>False</td>\n",
       "      <td>55 Cancri e</td>\n",
       "      <td>34.0</td>\n",
       "      <td>False</td>\n",
       "      <td>695.0</td>\n",
       "      <td>2325.0</td>\n",
       "      <td>0.0</td>\n",
       "      <td>21.0</td>\n",
       "      <td>9626.0</td>\n",
       "      <td>Nekkard Fasticaly</td>\n",
       "      <td>C</td>\n",
       "      <td>217</td>\n",
       "      <td>P</td>\n",
       "    </tr>\n",
       "    <tr>\n",
       "      <th>1198</th>\n",
       "      <td>2525_01</td>\n",
       "      <td>Earth</td>\n",
       "      <td>False</td>\n",
       "      <td>TRAPPIST-1e</td>\n",
       "      <td>15.0</td>\n",
       "      <td>False</td>\n",
       "      <td>756.0</td>\n",
       "      <td>3.0</td>\n",
       "      <td>43.0</td>\n",
       "      <td>30.0</td>\n",
       "      <td>45.0</td>\n",
       "      <td>Lloyde Mayson</td>\n",
       "      <td>F</td>\n",
       "      <td>486</td>\n",
       "      <td>S</td>\n",
       "    </tr>\n",
       "    <tr>\n",
       "      <th>2714</th>\n",
       "      <td>5966_01</td>\n",
       "      <td>Earth</td>\n",
       "      <td>False</td>\n",
       "      <td>55 Cancri e</td>\n",
       "      <td>0.0</td>\n",
       "      <td>False</td>\n",
       "      <td>0.0</td>\n",
       "      <td>0.0</td>\n",
       "      <td>0.0</td>\n",
       "      <td>0.0</td>\n",
       "      <td>0.0</td>\n",
       "      <td>Loisey Monsoney</td>\n",
       "      <td>G</td>\n",
       "      <td>971</td>\n",
       "      <td>S</td>\n",
       "    </tr>\n",
       "    <tr>\n",
       "      <th>732</th>\n",
       "      <td>1495_01</td>\n",
       "      <td>Earth</td>\n",
       "      <td>False</td>\n",
       "      <td>TRAPPIST-1e</td>\n",
       "      <td>21.0</td>\n",
       "      <td>False</td>\n",
       "      <td>0.0</td>\n",
       "      <td>0.0</td>\n",
       "      <td>18.0</td>\n",
       "      <td>758.0</td>\n",
       "      <td>0.0</td>\n",
       "      <td>Wenise Dukertyler</td>\n",
       "      <td>NaN</td>\n",
       "      <td>NaN</td>\n",
       "      <td>NaN</td>\n",
       "    </tr>\n",
       "  </tbody>\n",
       "</table>\n",
       "</div>"
      ],
      "text/plain": [
       "     PassengerId HomePlanet CryoSleep  Destination   Age    VIP  RoomService  \\\n",
       "3353     7348_02       Mars      True  55 Cancri e   0.0  False          0.0   \n",
       "3122     6838_03     Europa     False  55 Cancri e  34.0  False        695.0   \n",
       "1198     2525_01      Earth     False  TRAPPIST-1e  15.0  False        756.0   \n",
       "2714     5966_01      Earth     False  55 Cancri e   0.0  False          0.0   \n",
       "732      1495_01      Earth     False  TRAPPIST-1e  21.0  False          0.0   \n",
       "\n",
       "      FoodCourt  ShoppingMall    Spa  VRDeck               Name Deck CabinNum  \\\n",
       "3353        0.0           0.0    0.0     0.0        Pebix Coune    F     1414   \n",
       "3122     2325.0           0.0   21.0  9626.0  Nekkard Fasticaly    C      217   \n",
       "1198        3.0          43.0   30.0    45.0      Lloyde Mayson    F      486   \n",
       "2714        0.0           0.0    0.0     0.0    Loisey Monsoney    G      971   \n",
       "732         0.0          18.0  758.0     0.0  Wenise Dukertyler  NaN      NaN   \n",
       "\n",
       "     Side  \n",
       "3353    S  \n",
       "3122    P  \n",
       "1198    S  \n",
       "2714    S  \n",
       "732   NaN  "
      ]
     },
     "execution_count": 11,
     "metadata": {},
     "output_type": "execute_result"
    }
   ],
   "source": [
    "test.sample(5)"
   ]
  },
  {
   "cell_type": "code",
   "execution_count": 12,
   "metadata": {},
   "outputs": [
    {
     "data": {
      "image/png": "[encoded data removed]",
      "text/plain": [
       "<Figure size 576x432 with 1 Axes>"
      ]
     },
     "metadata": {},
     "output_type": "display_data"
    }
   ],
   "source": [
    "#Finding the percentage of people transported\n",
    "plt.rcParams['figure.facecolor'] = 'white'\n",
    "plt.figure(figsize=(8, 6))\n",
    "transported_counts = train[\"Transported\"].value_counts()\n",
    "colors = sns.color_palette('pastel')[0:len(transported_counts)]\n",
    "\n",
    "plt.pie(transported_counts,\n",
    "        labels=transported_counts.keys(),\n",
    "        autopct=\"%1.1f%%\",\n",
    "        colors=colors)\n",
    "plt.title(\"Percentage of people transported\")\n",
    "plt.show()"
   ]
  },
  {
   "cell_type": "markdown",
   "metadata": {},
   "source": [
    "### <span style=\"color:red\">Pie Chart Interpretation - </span>\n",
    "* The pie chart depicts a nearly even split between two categories with respect to the percentage of people transported. The \"True\" category is slightly larger, representing 50.4% of the pie, while the \"False\" category constitutes a marginally smaller share at 49.6%. This close distribution suggests that the number of people transported is roughly equivalent to those not transported "
   ]
  },
  {
   "cell_type": "code",
   "execution_count": 13,
   "metadata": {},
   "outputs": [
    {
     "data": {
      "text/plain": [
       "Text(0.5, 1.0, 'Age Feature Distribution')"
      ]
     },
     "execution_count": 13,
     "metadata": {},
     "output_type": "execute_result"
    },
    {
     "data": {
      "image/png": "[encoded data removed]",
      "text/plain": [
       "<Figure size 576x432 with 1 Axes>"
      ]
     },
     "metadata": {},
     "output_type": "display_data"
    }
   ],
   "source": [
    "#Distribution of passengers based on their age\n",
    "plt.figure(figsize=(8, 6))\n",
    "sns.histplot(x=train[\"Age\"],\n",
    "             hue=\"Transported\",\n",
    "             data=train,\n",
    "             palette=sns.color_palette('pastel')[1:3])\n",
    "plt.title(\"Age Feature Distribution\")"
   ]
  },
  {
   "cell_type": "markdown",
   "metadata": {},
   "source": [
    "### <span style=\"color:red\">Plot Interpretation - </span>\n",
    "* The age distribution of individuals is skewed towards younger ages for both \"True\" and \"False\" categories, with a peak around the age of 20-30 years.\n",
    "* The count of individuals decreases steadily as age increases for both categories.\n",
    "* There's a noticeable overlap between the two categories, suggesting that the age distribution is somewhat similar for both.\n",
    "* The \"True\" category consistently has a higher count across most age ranges, which might suggest that people being transported is more common in this dataset.\n",
    "* There are some age ranges where the \"False\" category appears to have a slightly higher count, but these are fewer and generally involve lower counts of individuals."
   ]
  },
  {
   "cell_type": "code",
   "execution_count": 14,
   "metadata": {},
   "outputs": [
    {
     "data": {
      "text/plain": [
       "<AxesSubplot:>"
      ]
     },
     "execution_count": 14,
     "metadata": {},
     "output_type": "execute_result"
    },
    {
     "data": {
      "image/png": "[encoded data removed]",
      "text/plain": [
       "<Figure size 576x432 with 2 Axes>"
      ]
     },
     "metadata": {},
     "output_type": "display_data"
    }
   ],
   "source": [
    "plt.figure(figsize=(8, 6))\n",
    "train_corr = train[['CryoSleep','Age', 'RoomService',\n",
    "                'FoodCourt', 'ShoppingMall', 'Spa', \n",
    "                'VRDeck', 'Transported']].dropna().corr()\n",
    "\n",
    "sns.heatmap(data=train_corr, annot=True, fmt=\".1f\")"
   ]
  },
  {
   "cell_type": "markdown",
   "metadata": {},
   "source": [
    "### <span style=\"color:red\">Heatmap Interpretation - </span>\n",
    "* 'CryoSleep' has a positive correlation (0.5) with being 'Transported', which is the strongest correlation observed in this heatmap. This suggests that there is a moderate positive relationship between individuals who are in cryosleep and their likelihood of being transported.\n",
    "* All other features ('Age', 'RoomService', 'FoodCourt', 'ShoppingMall', 'Spa', 'VRDeck') have very low correlation values with 'Transported', most of which are negative, though these values are so close to 0 they suggest virtually no linear relationship.\n",
    "* 'Age' has a slight negative correlation with 'CryoSleep' (-0.1), suggesting younger people may be slightly more likely to be in cryosleep.\n",
    "* Leisure and amenity features ('RoomService', 'FoodCourt', 'ShoppingMall', 'Spa', 'VRDeck') have positive correlations with each other, generally around 0.1 to 0.2, indicating that individuals who use one of these services are slightly more likely to use the others.\n",
    "* No feature shows a strong correlation with any other, as all the values are well below 0.5 in absolute value, indicating that there is no strong linear relationship between the features represented in this heatmap."
   ]
  },
  {
   "cell_type": "code",
   "execution_count": 15,
   "metadata": {},
   "outputs": [
    {
     "data": {
      "text/plain": [
       "<AxesSubplot:xlabel='Destination', ylabel='count'>"
      ]
     },
     "execution_count": 15,
     "metadata": {},
     "output_type": "execute_result"
    },
    {
     "data": {
      "image/png": "[encoded data removed]",
      "text/plain": [
       "<Figure size 720x1080 with 2 Axes>"
      ]
     },
     "metadata": {},
     "output_type": "display_data"
    }
   ],
   "source": [
    "#Distribution of people who were transported based on their home planet and the destination planet\n",
    "\n",
    "plt.figure(figsize=(10, 15))\n",
    "\n",
    "plt.subplot(4, 1, 1)\n",
    "sns.countplot(x='HomePlanet', hue='Transported', data=train, palette=sns.color_palette('pastel')[2:4])\n",
    "\n",
    "plt.subplot(4, 1, 2)\n",
    "sns.countplot(x='Destination', hue='Transported', data=train, palette=sns.color_palette('pastel')[2:4])"
   ]
  },
  {
   "cell_type": "markdown",
   "metadata": {},
   "source": [
    "### <span style=\"color:red\">Plot Interpretation - </span>\n",
    "* Earth has the highest number of individuals transported ('True') compared to Europa and Mars.\n",
    "* For Europa, the number of individuals not transported ('False') is higher than those who were transported.\n",
    "* In contrast, on Mars, the number of individuals transported ('True') is lower than those not transported, but the difference is not as stark as it is for Europa.\n",
    "* The total number of individuals (whether transported or not) from Earth is the highest among the three, indicating that Earth may have a larger population or that more individuals from Earth were involved in the scenario being measured.\n",
    "* TRAPPIST-1e has the highest number of individuals who were successfully transported compared to PSO J318.5-22 and 55 Cancri e.\n",
    "* The number of individuals not transported to TRAPPIST-1e is significant but still lower than the number that was transported.\n",
    "* PSO J318.5-22 has a much smaller number of individuals related to it, with a slightly higher count of individuals not transported.\n",
    "* For 55 Cancri e, the counts for transported and not transported are similar, but with a slightly higher number not transported."
   ]
  },
  {
   "cell_type": "markdown",
   "metadata": {},
   "source": [
    "### <span style=\"color:red\">Preprocessing the data - </span>"
   ]
  },
  {
   "cell_type": "code",
   "execution_count": 16,
   "metadata": {},
   "outputs": [],
   "source": [
    "# Separate categorical and numerical columns\n",
    "numerical_cols = ['ShoppingMall','FoodCourt','RoomService','Spa','VRDeck','Age']\n",
    "categorical_cols = ['CryoSleep','Deck','Side','VIP','HomePlanet','Destination']\n",
    "transported=['Transported']\n",
    "\n",
    "# Pipeline for numeric features\n",
    "numeric_transformer = Pipeline(steps=[\n",
    "    ('num_imputer', SimpleImputer(strategy='mean')),  # Imputation transformer for completing missing values using the mean\n",
    "    ('scaler', StandardScaler())  # Standardize features by removing the mean and scaling to unit variance\n",
    "])\n",
    "\n",
    "# Pipeline for categorical features\n",
    "categorical_transformer = Pipeline(steps=[\n",
    "    ('cat_imputer', SimpleImputer(strategy='most_frequent')),  # Imputation transformer for completing missing values using the most frequent value\n",
    "    ('onehot', OneHotEncoder(sparse_output=False))  # Transform categorical data into one-hot vectors\n",
    "])\n",
    "\n",
    "# Combining numeric and categorical transformers into a ColumnTransformer\n",
    "preprocessor = ColumnTransformer(\n",
    "    transformers=[\n",
    "        ('num', numeric_transformer, numerical_cols),  # Apply numeric_transformer to numeric columns\n",
    "        ('cat', categorical_transformer, categorical_cols)  # Apply categorical_transformer to categorical columns\n",
    "    ]\n",
    ")\n",
    "\n"
   ]
  },
  {
   "cell_type": "code",
   "execution_count": 17,
   "metadata": {},
   "outputs": [],
   "source": [
    "X=train.drop('Transported', axis=1)\n",
    "y=train['Transported']\n",
    "X_transformed=preprocessor.fit_transform(X)"
   ]
  },
  {
   "cell_type": "code",
   "execution_count": 18,
   "metadata": {},
   "outputs": [],
   "source": [
    "test_transformed=preprocessor.transform(test)"
   ]
  },
  {
   "cell_type": "code",
   "execution_count": 19,
   "metadata": {},
   "outputs": [
    {
     "data": {
      "text/plain": [
       "PassengerId      object\n",
       "HomePlanet       object\n",
       "CryoSleep        object\n",
       "Destination      object\n",
       "Age             float64\n",
       "VIP              object\n",
       "RoomService     float64\n",
       "FoodCourt       float64\n",
       "ShoppingMall    float64\n",
       "Spa             float64\n",
       "VRDeck          float64\n",
       "Name             object\n",
       "Deck             object\n",
       "CabinNum         object\n",
       "Side             object\n",
       "dtype: object"
      ]
     },
     "execution_count": 19,
     "metadata": {},
     "output_type": "execute_result"
    }
   ],
   "source": [
    "X.dtypes"
   ]
  },
  {
   "cell_type": "markdown",
   "metadata": {},
   "source": [
    "### <span style=\"color:red\">Model Training - </span>"
   ]
  },
  {
   "cell_type": "markdown",
   "metadata": {},
   "source": [
    "Models Used - \n",
    "* Random Forest Classifier\n",
    "* Support Vector Classifier\n",
    "* XG Boost Classifier\n",
    "\n",
    "Voting type in Coting Classifier - Soft"
   ]
  },
  {
   "cell_type": "code",
   "execution_count": 20,
   "metadata": {},
   "outputs": [
    {
     "name": "stdout",
     "output_type": "stream",
     "text": [
      "Ensemble Training Accuracy: 0.8271\n"
     ]
    }
   ],
   "source": [
    "# Define classifiers\n",
    "rf_classifier = RandomForestClassifier()\n",
    "svm_classifier = SVC(probability=True)\n",
    "xgb_classifier = XGBClassifier()\n",
    "\n",
    "# Define parameter grids for grid search\n",
    "rf_param_grid = {'n_estimators': [50, 100, 200], 'max_depth': [None, 10, 20]}\n",
    "svm_param_grid = {'C': [1, 10, 100], 'kernel': ['linear', 'rbf']}\n",
    "xgb_param_grid = {'learning_rate': [0.1, 0.01, 0.001], 'n_estimators': [50, 100, 200]}\n",
    "\n",
    "# Perform grid search for each classifier\n",
    "rf_grid_search = GridSearchCV(rf_classifier, rf_param_grid, cv=5)\n",
    "svm_grid_search = GridSearchCV(svm_classifier, svm_param_grid, cv=5)\n",
    "xgb_grid_search = GridSearchCV(xgb_classifier, xgb_param_grid, cv=5)\n",
    "\n",
    "# Fit the grid search models\n",
    "rf_grid_search.fit(X_transformed, y)\n",
    "svm_grid_search.fit(X_transformed, y)\n",
    "xgb_grid_search.fit(X_transformed, y)\n",
    "\n",
    "# Get the best models from grid search\n",
    "best_rf_model = rf_grid_search.best_estimator_\n",
    "best_svm_model = svm_grid_search.best_estimator_\n",
    "best_xgb_model = xgb_grid_search.best_estimator_\n",
    "\n",
    "# Create a voting classifier with the best models\n",
    "voting_classifier = VotingClassifier(estimators=[\n",
    "    ('rf', best_rf_model),\n",
    "    ('svm', best_svm_model),\n",
    "    ('xgb', best_xgb_model)\n",
    "], voting='soft')  # 'soft' for soft voting, 'hard' for hard voting\n",
    "\n",
    "# Fit the voting classifier on the training data\n",
    "y_pred = voting_classifier.fit(X_transformed, y)\n",
    "\n",
    "# Evaluate the accuracy\n",
    "accuracy = accuracy_score(y, voting_classifier.predict(X_transformed))\n",
    "print(f'Ensemble Training Accuracy: {accuracy:.4f}')\n"
   ]
  },
  {
   "cell_type": "code",
   "execution_count": 21,
   "metadata": {},
   "outputs": [],
   "source": [
    "def get_score(model,X,y):\n",
    "    n = cross_val_score(model,X,y,scoring ='accuracy',cv=20)\n",
    "    return n\n",
    "\n",
    "params_XGB_best ={'lambda': 3.0610042624477543, \n",
    "             'alpha': 4.581902571574289, \n",
    "             'colsample_bytree': 0.9241969052729379, \n",
    "             'subsample': 0.9527591724824661, \n",
    "             'learning_rate': 0.06672065863100594, \n",
    "             'n_estimators': 725,\n",
    "             'max_depth': 5, \n",
    "             'min_child_weight': 1, \n",
    "             'num_parallel_tree': 1}"
   ]
  },
  {
   "cell_type": "code",
   "execution_count": 22,
   "metadata": {},
   "outputs": [
    {
     "name": "stdout",
     "output_type": "stream",
     "text": [
      "0.8022577996715927\n"
     ]
    }
   ],
   "source": [
    "print(get_score(XGBClassifier(**params_XGB_best),X_transformed,y).mean())"
   ]
  },
  {
   "cell_type": "code",
   "execution_count": 23,
   "metadata": {},
   "outputs": [],
   "source": [
    "pred_XGB_best = (XGBClassifier(**params_XGB_best).fit(X_transformed,y)).predict(test_transformed)\n",
    "sample['Transported'] = pred_XGB_best\n",
    "sample['Transported']=sample['Transported']>0.5\n",
    "sample.to_csv('Sudhanshu_Agarwal_Submission.csv', index=False)"
   ]
  },
  {
   "cell_type": "markdown",
   "metadata": {},
   "source": [
    "### <span style=\"color:red\">Final Accuracy on Kaggle - 0.80079 (80.079%)</span>"
   ]
  },
  {
   "cell_type": "markdown",
   "metadata": {},
   "source": [
    "![Final Accuracy Snapshot](https://github-production-user-asset-6210df.s3.amazonaws.com/62510908/283535415-aa939fe9-0a16-4e6b-9df5-e632481cfaec.png)\n"
   ]
  }
 ],
 "metadata": {
  "kernelspec": {
   "display_name": "Python 3",
   "language": "python",
   "name": "python3"
  },
  "language_info": {
   "codemirror_mode": {
    "name": "ipython",
    "version": 3
   },
   "file_extension": ".py",
   "mimetype": "text/x-python",
   "name": "python",
   "nbconvert_exporter": "python",
   "pygments_lexer": "ipython3",
   "version": "3.9.2"
  }
 },
 "nbformat": 4,
 "nbformat_minor": 4
}
