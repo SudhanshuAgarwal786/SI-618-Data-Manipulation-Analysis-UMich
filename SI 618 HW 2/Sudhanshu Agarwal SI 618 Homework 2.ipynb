{
 "cells": [
  {
   "cell_type": "markdown",
   "metadata": {
    "tags": []
   },
   "source": [
    "# SI 618 - Homework #2: More Data Manipulation"
   ]
  },
  {
   "cell_type": "markdown",
   "metadata": {},
   "source": [
    "### The total score for this assignment will be 100 points, consisting of:\n",
    "- 10 pt: Overall quality of spelling, grammar, punctuation, etc. of written sentences. ([Guide](https://drive.google.com/file/d/1L0P7xJwjUGBvyb49mL3dw1Bt7hzRTiTl/view ))\n",
    "- 10 pt: Codes are written in [PEP 8](https://www.python.org/dev/peps/pep-0008/) style.\n",
    "- 80 pt: Homework questions. \n",
    "\n",
    "Version 2023.09.13.1.CT"
   ]
  },
  {
   "cell_type": "markdown",
   "metadata": {},
   "source": [
    "# Background\n",
    "You're a Data Science Consultant for an eCommerce retail company, they've asked you to analyze their sales database. Unfortunately, they did nothing to prepare or clean their data, only exporting their 3 database tables as JSON files. It's up to you to clean their data, analyze it and answer questions to help drive business value!\n",
    "\n",
    "### The below files have been provided via the URLs shown:\n",
    "- invoices.json https://github.com/umsi-data-science/data/raw/main/invoices.json\n",
    "- items.json https://github.com/umsi-data-science/data/raw/main/items.json\n",
    "- purchases.json https://github.com/umsi-data-science/data/raw/main/purchases.json\n",
    "\n",
    "### They provided this data dictionary:\n",
    "\n",
    "**InvoiceNo:** Invoice number. Nominal, a 6-digit integral number uniquely assigned to each transaction.  \n",
    "**StockCode:** Product (item) code. Nominal, a 5-digit integral number uniquely assigned to each distinct product.  \n",
    "**Description:** Product (item) name. Nominal.   \n",
    "**Quantity:** The quantities of each product (item) per transaction. Numeric.  \n",
    "**InvoiceDate:** Invoice Date and time. Numeric, the day and time when each transaction was generated.  \n",
    "**UnitPrice:** Unit price. Numeric, Product price per unit in sterling.  \n",
    "**CustomerID:** Customer number. Nominal, a 5-digit integral number uniquely assigned to each customer.  \n",
    "**Country:** Country name. Nominal, the name of the country where each customer resides.  \n",
    "\n",
    "### A few notes from the company:\n",
    "* If the InvoiceNo starts with the letter 'c', it indicates a cancellation. When conducting this analysis we only want to analyze invoices that were shipped. (ie. not canceled)\n",
    "* The datasets should be able to be merged, each row in the invoice table corresponds to multiple rows in the purchases table.\n",
    "* To find out the description or unit cost of an item in the purchase table, the StockCode should be used to match up the product in the items table. \n",
    "* They mentioned that they've been having a difficult time lately joining the items and purchases table, maybe there's something wrong with the columns?"
   ]
  },
  {
   "cell_type": "markdown",
   "metadata": {},
   "source": [
    "# Answer the questions below.\n",
    "- write your Python code that can answer the following questions \n",
    "- explain **ALL** your answers in plain English. \n",
    "- you can use as many code and markdown cells as you need for each question (i.e. don't limit yourself to just one of each if you feel you need more)."
   ]
  },
  {
   "cell_type": "code",
   "execution_count": 1,
   "metadata": {},
   "outputs": [],
   "source": [
    "MY_UNIQNAME = 'sudhagar'  # replace this with your uniqname"
   ]
  },
  {
   "cell_type": "markdown",
   "metadata": {},
   "source": [
    "### <span style=\"color:magenta\"> Q1. [5 points] Describe the dataset. </span>\n",
    "1. Load the data. \n",
    "1. How many total invoices have been placed?\n",
    "1. How many unique customers are there?\n",
    "1. What is the total number of unique items?\n",
    "1. Are there any columns with null values?\n",
    "1. Thinking ahead, how do you think you would join the different tables? Please share 2-3 sentences about your approach."
   ]
  },
  {
   "cell_type": "code",
   "execution_count": 2,
   "metadata": {},
   "outputs": [],
   "source": [
    "#Question 1 Part 1\n",
    "\n",
    "import pandas as pd\n",
    "import numpy as np\n",
    "import matplotlib.pyplot as plt\n",
    "\n",
    "invoices_dataset = pd.read_json('https://github.com/umsi-data-science/data/raw/main/invoices.json')\n",
    "items_dataset = pd.read_json('https://github.com/umsi-data-science/data/raw/main/items.json')\n",
    "purchases_dataset = pd.read_json('https://github.com/umsi-data-science/data/raw/main/purchases.json')"
   ]
  },
  {
   "cell_type": "markdown",
   "metadata": {},
   "source": [
    "### Cleaning the Datasets"
   ]
  },
  {
   "cell_type": "code",
   "execution_count": 3,
   "metadata": {},
   "outputs": [
    {
     "name": "stderr",
     "output_type": "stream",
     "text": [
      "C:\\Users\\hp\\AppData\\Local\\Temp/ipykernel_18808/843481944.py:4: FutureWarning: The default value of regex will change from True to False in a future version.\n",
      "  invoices_dataset['CustomerID_cleaned'] = invoices_dataset['CustomerID'].astype(str).str.replace('\\.0', '')\n"
     ]
    },
    {
     "data": {
      "text/html": [
       "<div>\n",
       "<style scoped>\n",
       "    .dataframe tbody tr th:only-of-type {\n",
       "        vertical-align: middle;\n",
       "    }\n",
       "\n",
       "    .dataframe tbody tr th {\n",
       "        vertical-align: top;\n",
       "    }\n",
       "\n",
       "    .dataframe thead th {\n",
       "        text-align: right;\n",
       "    }\n",
       "</style>\n",
       "<table border=\"1\" class=\"dataframe\">\n",
       "  <thead>\n",
       "    <tr style=\"text-align: right;\">\n",
       "      <th></th>\n",
       "      <th>InvoiceNo</th>\n",
       "      <th>InvoiceDate</th>\n",
       "      <th>CustomerID</th>\n",
       "      <th>Country</th>\n",
       "      <th>CustomerID_cleaned</th>\n",
       "    </tr>\n",
       "  </thead>\n",
       "  <tbody>\n",
       "    <tr>\n",
       "      <th>0</th>\n",
       "      <td>536365</td>\n",
       "      <td>12/1/10 8:26</td>\n",
       "      <td>17850.0</td>\n",
       "      <td>United Kingdom</td>\n",
       "      <td>17850</td>\n",
       "    </tr>\n",
       "    <tr>\n",
       "      <th>1</th>\n",
       "      <td>536366</td>\n",
       "      <td>12/1/10 8:28</td>\n",
       "      <td>17850.0</td>\n",
       "      <td>United Kingdom</td>\n",
       "      <td>17850</td>\n",
       "    </tr>\n",
       "    <tr>\n",
       "      <th>2</th>\n",
       "      <td>536367</td>\n",
       "      <td>12/1/10 8:34</td>\n",
       "      <td>13047.0</td>\n",
       "      <td>United Kingdom</td>\n",
       "      <td>13047</td>\n",
       "    </tr>\n",
       "    <tr>\n",
       "      <th>3</th>\n",
       "      <td>536368</td>\n",
       "      <td>12/1/10 8:34</td>\n",
       "      <td>13047.0</td>\n",
       "      <td>United Kingdom</td>\n",
       "      <td>13047</td>\n",
       "    </tr>\n",
       "    <tr>\n",
       "      <th>4</th>\n",
       "      <td>536369</td>\n",
       "      <td>12/1/10 8:35</td>\n",
       "      <td>13047.0</td>\n",
       "      <td>United Kingdom</td>\n",
       "      <td>13047</td>\n",
       "    </tr>\n",
       "    <tr>\n",
       "      <th>...</th>\n",
       "      <td>...</td>\n",
       "      <td>...</td>\n",
       "      <td>...</td>\n",
       "      <td>...</td>\n",
       "      <td>...</td>\n",
       "    </tr>\n",
       "    <tr>\n",
       "      <th>25938</th>\n",
       "      <td>581583</td>\n",
       "      <td>12/9/11 12:23</td>\n",
       "      <td>13777.0</td>\n",
       "      <td>United Kingdom</td>\n",
       "      <td>13777</td>\n",
       "    </tr>\n",
       "    <tr>\n",
       "      <th>25939</th>\n",
       "      <td>581584</td>\n",
       "      <td>12/9/11 12:25</td>\n",
       "      <td>13777.0</td>\n",
       "      <td>United Kingdom</td>\n",
       "      <td>13777</td>\n",
       "    </tr>\n",
       "    <tr>\n",
       "      <th>25940</th>\n",
       "      <td>581585</td>\n",
       "      <td>12/9/11 12:31</td>\n",
       "      <td>15804.0</td>\n",
       "      <td>United Kingdom</td>\n",
       "      <td>15804</td>\n",
       "    </tr>\n",
       "    <tr>\n",
       "      <th>25941</th>\n",
       "      <td>581586</td>\n",
       "      <td>12/9/11 12:49</td>\n",
       "      <td>13113.0</td>\n",
       "      <td>United Kingdom</td>\n",
       "      <td>13113</td>\n",
       "    </tr>\n",
       "    <tr>\n",
       "      <th>25942</th>\n",
       "      <td>581587</td>\n",
       "      <td>12/9/11 12:50</td>\n",
       "      <td>12680.0</td>\n",
       "      <td>France</td>\n",
       "      <td>12680</td>\n",
       "    </tr>\n",
       "  </tbody>\n",
       "</table>\n",
       "<p>22106 rows × 5 columns</p>\n",
       "</div>"
      ],
      "text/plain": [
       "      InvoiceNo    InvoiceDate  CustomerID         Country CustomerID_cleaned\n",
       "0        536365   12/1/10 8:26     17850.0  United Kingdom              17850\n",
       "1        536366   12/1/10 8:28     17850.0  United Kingdom              17850\n",
       "2        536367   12/1/10 8:34     13047.0  United Kingdom              13047\n",
       "3        536368   12/1/10 8:34     13047.0  United Kingdom              13047\n",
       "4        536369   12/1/10 8:35     13047.0  United Kingdom              13047\n",
       "...         ...            ...         ...             ...                ...\n",
       "25938    581583  12/9/11 12:23     13777.0  United Kingdom              13777\n",
       "25939    581584  12/9/11 12:25     13777.0  United Kingdom              13777\n",
       "25940    581585  12/9/11 12:31     15804.0  United Kingdom              15804\n",
       "25941    581586  12/9/11 12:49     13113.0  United Kingdom              13113\n",
       "25942    581587  12/9/11 12:50     12680.0          France              12680\n",
       "\n",
       "[22106 rows x 5 columns]"
      ]
     },
     "execution_count": 3,
     "metadata": {},
     "output_type": "execute_result"
    }
   ],
   "source": [
    "#Cleaning Invoices Dataset\n",
    "\n",
    "#Removing '.0' at the end of the Customer ID as it is supposed to be a 5 digit integer\n",
    "invoices_dataset['CustomerID_cleaned'] = invoices_dataset['CustomerID'].astype(str).str.replace('\\.0', '')\n",
    "\n",
    "#Removing the rows which have the invoice number starting with 'c' as we only need to analyse the shipped orders\n",
    "invoices_dataset.drop(invoices_dataset[invoices_dataset['InvoiceNo'].str.lower().str.startswith('c')].index, inplace=True)\n",
    "\n",
    "invoices_dataset"
   ]
  },
  {
   "cell_type": "code",
   "execution_count": 4,
   "metadata": {},
   "outputs": [
    {
     "data": {
      "text/html": [
       "<div>\n",
       "<style scoped>\n",
       "    .dataframe tbody tr th:only-of-type {\n",
       "        vertical-align: middle;\n",
       "    }\n",
       "\n",
       "    .dataframe tbody tr th {\n",
       "        vertical-align: top;\n",
       "    }\n",
       "\n",
       "    .dataframe thead th {\n",
       "        text-align: right;\n",
       "    }\n",
       "</style>\n",
       "<table border=\"1\" class=\"dataframe\">\n",
       "  <thead>\n",
       "    <tr style=\"text-align: right;\">\n",
       "      <th></th>\n",
       "      <th>StockCode</th>\n",
       "      <th>Description</th>\n",
       "      <th>UnitPrice</th>\n",
       "      <th>StockCode_cleaned</th>\n",
       "    </tr>\n",
       "  </thead>\n",
       "  <tbody>\n",
       "    <tr>\n",
       "      <th>0</th>\n",
       "      <td>85123A</td>\n",
       "      <td>WHITE HANGING HEART T-LIGHT HOLDER</td>\n",
       "      <td>2.55</td>\n",
       "      <td>85123</td>\n",
       "    </tr>\n",
       "    <tr>\n",
       "      <th>1</th>\n",
       "      <td>71053</td>\n",
       "      <td>WHITE METAL LANTERN</td>\n",
       "      <td>3.39</td>\n",
       "      <td>71053</td>\n",
       "    </tr>\n",
       "    <tr>\n",
       "      <th>2</th>\n",
       "      <td>84406B</td>\n",
       "      <td>CREAM CUPID HEARTS COAT HANGER</td>\n",
       "      <td>2.75</td>\n",
       "      <td>84406</td>\n",
       "    </tr>\n",
       "    <tr>\n",
       "      <th>3</th>\n",
       "      <td>84029G</td>\n",
       "      <td>KNITTED UNION FLAG HOT WATER BOTTLE</td>\n",
       "      <td>3.39</td>\n",
       "      <td>84029</td>\n",
       "    </tr>\n",
       "    <tr>\n",
       "      <th>4</th>\n",
       "      <td>84029E</td>\n",
       "      <td>RED WOOLLY HOTTIE WHITE HEART.</td>\n",
       "      <td>3.39</td>\n",
       "      <td>84029</td>\n",
       "    </tr>\n",
       "    <tr>\n",
       "      <th>...</th>\n",
       "      <td>...</td>\n",
       "      <td>...</td>\n",
       "      <td>...</td>\n",
       "      <td>...</td>\n",
       "    </tr>\n",
       "    <tr>\n",
       "      <th>4065</th>\n",
       "      <td>85179a</td>\n",
       "      <td>GREEN BITTY LIGHT CHAIN</td>\n",
       "      <td>2.46</td>\n",
       "      <td>85179</td>\n",
       "    </tr>\n",
       "    <tr>\n",
       "      <th>4066</th>\n",
       "      <td>23617</td>\n",
       "      <td>SET 10 CARDS SWIRLY XMAS TREE 17104</td>\n",
       "      <td>2.91</td>\n",
       "      <td>23617</td>\n",
       "    </tr>\n",
       "    <tr>\n",
       "      <th>4067</th>\n",
       "      <td>90214U</td>\n",
       "      <td>LETTER \"U\" BLING KEY RING</td>\n",
       "      <td>0.29</td>\n",
       "      <td>90214</td>\n",
       "    </tr>\n",
       "    <tr>\n",
       "      <th>4068</th>\n",
       "      <td>47591b</td>\n",
       "      <td>SCOTTIES CHILDRENS APRON</td>\n",
       "      <td>4.13</td>\n",
       "      <td>47591</td>\n",
       "    </tr>\n",
       "    <tr>\n",
       "      <th>4069</th>\n",
       "      <td>23843</td>\n",
       "      <td>PAPER CRAFT , LITTLE BIRDIE</td>\n",
       "      <td>2.08</td>\n",
       "      <td>23843</td>\n",
       "    </tr>\n",
       "  </tbody>\n",
       "</table>\n",
       "<p>4070 rows × 4 columns</p>\n",
       "</div>"
      ],
      "text/plain": [
       "     StockCode                          Description  UnitPrice  \\\n",
       "0       85123A   WHITE HANGING HEART T-LIGHT HOLDER       2.55   \n",
       "1        71053                  WHITE METAL LANTERN       3.39   \n",
       "2       84406B       CREAM CUPID HEARTS COAT HANGER       2.75   \n",
       "3       84029G  KNITTED UNION FLAG HOT WATER BOTTLE       3.39   \n",
       "4       84029E       RED WOOLLY HOTTIE WHITE HEART.       3.39   \n",
       "...        ...                                  ...        ...   \n",
       "4065    85179a              GREEN BITTY LIGHT CHAIN       2.46   \n",
       "4066     23617  SET 10 CARDS SWIRLY XMAS TREE 17104       2.91   \n",
       "4067    90214U            LETTER \"U\" BLING KEY RING       0.29   \n",
       "4068    47591b             SCOTTIES CHILDRENS APRON       4.13   \n",
       "4069     23843          PAPER CRAFT , LITTLE BIRDIE       2.08   \n",
       "\n",
       "     StockCode_cleaned  \n",
       "0                85123  \n",
       "1                71053  \n",
       "2                84406  \n",
       "3                84029  \n",
       "4                84029  \n",
       "...                ...  \n",
       "4065             85179  \n",
       "4066             23617  \n",
       "4067             90214  \n",
       "4068             47591  \n",
       "4069             23843  \n",
       "\n",
       "[4070 rows x 4 columns]"
      ]
     },
     "execution_count": 4,
     "metadata": {},
     "output_type": "execute_result"
    }
   ],
   "source": [
    "#Cleaning Items Dataset\n",
    "\n",
    "#Removing alphabets which are at the start and end of the Stock Code as it is supposed to be a 5 digit integer\n",
    "items_dataset['StockCode_cleaned'] = items_dataset['StockCode'].str.extract(r'(\\d{5})')\n",
    "\n",
    "items_dataset"
   ]
  },
  {
   "cell_type": "code",
   "execution_count": 6,
   "metadata": {},
   "outputs": [
    {
     "data": {
      "text/html": [
       "<div>\n",
       "<style scoped>\n",
       "    .dataframe tbody tr th:only-of-type {\n",
       "        vertical-align: middle;\n",
       "    }\n",
       "\n",
       "    .dataframe tbody tr th {\n",
       "        vertical-align: top;\n",
       "    }\n",
       "\n",
       "    .dataframe thead th {\n",
       "        text-align: right;\n",
       "    }\n",
       "</style>\n",
       "<table border=\"1\" class=\"dataframe\">\n",
       "  <thead>\n",
       "    <tr style=\"text-align: right;\">\n",
       "      <th></th>\n",
       "      <th>InvoiceNo</th>\n",
       "      <th>StockCodeSC</th>\n",
       "      <th>Quantity</th>\n",
       "      <th>StockCode_cleaned</th>\n",
       "    </tr>\n",
       "  </thead>\n",
       "  <tbody>\n",
       "    <tr>\n",
       "      <th>0</th>\n",
       "      <td>536365</td>\n",
       "      <td>SC85123A</td>\n",
       "      <td>6</td>\n",
       "      <td>85123</td>\n",
       "    </tr>\n",
       "    <tr>\n",
       "      <th>1</th>\n",
       "      <td>536365</td>\n",
       "      <td>SC71053</td>\n",
       "      <td>6</td>\n",
       "      <td>71053</td>\n",
       "    </tr>\n",
       "    <tr>\n",
       "      <th>2</th>\n",
       "      <td>536365</td>\n",
       "      <td>SC84406B</td>\n",
       "      <td>8</td>\n",
       "      <td>84406</td>\n",
       "    </tr>\n",
       "    <tr>\n",
       "      <th>3</th>\n",
       "      <td>536365</td>\n",
       "      <td>SC84029G</td>\n",
       "      <td>6</td>\n",
       "      <td>84029</td>\n",
       "    </tr>\n",
       "    <tr>\n",
       "      <th>4</th>\n",
       "      <td>536365</td>\n",
       "      <td>SC84029E</td>\n",
       "      <td>6</td>\n",
       "      <td>84029</td>\n",
       "    </tr>\n",
       "    <tr>\n",
       "      <th>...</th>\n",
       "      <td>...</td>\n",
       "      <td>...</td>\n",
       "      <td>...</td>\n",
       "      <td>...</td>\n",
       "    </tr>\n",
       "    <tr>\n",
       "      <th>541904</th>\n",
       "      <td>581587</td>\n",
       "      <td>SC22613</td>\n",
       "      <td>12</td>\n",
       "      <td>22613</td>\n",
       "    </tr>\n",
       "    <tr>\n",
       "      <th>541905</th>\n",
       "      <td>581587</td>\n",
       "      <td>SC22899</td>\n",
       "      <td>6</td>\n",
       "      <td>22899</td>\n",
       "    </tr>\n",
       "    <tr>\n",
       "      <th>541906</th>\n",
       "      <td>581587</td>\n",
       "      <td>SC23254</td>\n",
       "      <td>4</td>\n",
       "      <td>23254</td>\n",
       "    </tr>\n",
       "    <tr>\n",
       "      <th>541907</th>\n",
       "      <td>581587</td>\n",
       "      <td>SC23255</td>\n",
       "      <td>4</td>\n",
       "      <td>23255</td>\n",
       "    </tr>\n",
       "    <tr>\n",
       "      <th>541908</th>\n",
       "      <td>581587</td>\n",
       "      <td>SC22138</td>\n",
       "      <td>3</td>\n",
       "      <td>22138</td>\n",
       "    </tr>\n",
       "  </tbody>\n",
       "</table>\n",
       "<p>531285 rows × 4 columns</p>\n",
       "</div>"
      ],
      "text/plain": [
       "       InvoiceNo StockCodeSC  Quantity StockCode_cleaned\n",
       "0         536365    SC85123A         6             85123\n",
       "1         536365     SC71053         6             71053\n",
       "2         536365    SC84406B         8             84406\n",
       "3         536365    SC84029G         6             84029\n",
       "4         536365    SC84029E         6             84029\n",
       "...          ...         ...       ...               ...\n",
       "541904    581587     SC22613        12             22613\n",
       "541905    581587     SC22899         6             22899\n",
       "541906    581587     SC23254         4             23254\n",
       "541907    581587     SC23255         4             23255\n",
       "541908    581587     SC22138         3             22138\n",
       "\n",
       "[531285 rows x 4 columns]"
      ]
     },
     "execution_count": 6,
     "metadata": {},
     "output_type": "execute_result"
    }
   ],
   "source": [
    "#Cleaning Purchases Dataset\n",
    "\n",
    "#Removing alphabets which are at the start and end of the Stock Code as it is supposed to be a 5 digit integer\n",
    "purchases_dataset['StockCode_cleaned'] = purchases_dataset['StockCodeSC'].str.extract(r'(\\d{5})')\n",
    "\n",
    "#Removing the rows which have the invoice number starting with 'c' as we only need to analyse the shipped orders\n",
    "purchases_dataset.drop(purchases_dataset[purchases_dataset['InvoiceNo'].str.lower().str.startswith('c')].index, inplace=True)\n",
    "\n",
    "#Removing the quantities that are negative since that is not possible in a retail dataset\n",
    "purchases_dataset.drop(purchases_dataset[purchases_dataset['Quantity'] < 0].index, inplace=True)\n",
    "\n",
    "purchases_dataset"
   ]
  },
  {
   "cell_type": "code",
   "execution_count": 7,
   "metadata": {},
   "outputs": [
    {
     "name": "stdout",
     "output_type": "stream",
     "text": [
      "Total Number of Invoices - 22064\n"
     ]
    }
   ],
   "source": [
    "#Question 1 Part 2\n",
    "\n",
    "print(\"Total Number of Invoices -\", invoices_dataset['InvoiceNo'].nunique())"
   ]
  },
  {
   "cell_type": "code",
   "execution_count": 8,
   "metadata": {},
   "outputs": [
    {
     "name": "stdout",
     "output_type": "stream",
     "text": [
      "Total Number of Unique Customers - 4340\n"
     ]
    }
   ],
   "source": [
    "#Question 1 Part 3\n",
    "\n",
    "print(\"Total Number of Unique Customers -\", invoices_dataset['CustomerID_cleaned'].nunique())"
   ]
  },
  {
   "cell_type": "code",
   "execution_count": 9,
   "metadata": {},
   "outputs": [
    {
     "name": "stdout",
     "output_type": "stream",
     "text": [
      "Total Number of Unique Items - 3386\n"
     ]
    }
   ],
   "source": [
    "#Question 1 Part 4\n",
    "\n",
    "print(\"Total Number of Unique Items -\", items_dataset['StockCode_cleaned'].nunique())"
   ]
  },
  {
   "cell_type": "code",
   "execution_count": 10,
   "metadata": {},
   "outputs": [
    {
     "name": "stdout",
     "output_type": "stream",
     "text": [
      "Columns with null values:\n",
      "CustomerID\n"
     ]
    }
   ],
   "source": [
    "#Question 1 Part 5\n",
    "\n",
    "#Checking invoices dataset for null values\n",
    "\n",
    "null_columns = invoices_dataset.columns[invoices_dataset.isnull().any()]\n",
    "\n",
    "if null_columns.empty:\n",
    "    print(\"There are no columns with null values.\")\n",
    "else:\n",
    "    print(\"Columns with null values:\")\n",
    "    for column in null_columns:\n",
    "        print(column)"
   ]
  },
  {
   "cell_type": "code",
   "execution_count": 11,
   "metadata": {},
   "outputs": [
    {
     "name": "stdout",
     "output_type": "stream",
     "text": [
      "Columns with null values:\n",
      "Description\n",
      "StockCode_cleaned\n"
     ]
    }
   ],
   "source": [
    "#Checking items dataset for null values\n",
    "\n",
    "null_columns = items_dataset.columns[items_dataset.isnull().any()]\n",
    "\n",
    "if null_columns.empty:\n",
    "    print(\"There are no columns with null values.\")\n",
    "else:\n",
    "    print(\"Columns with null values:\")\n",
    "    for column in null_columns:\n",
    "        print(column)"
   ]
  },
  {
   "cell_type": "code",
   "execution_count": 60,
   "metadata": {},
   "outputs": [
    {
     "name": "stdout",
     "output_type": "stream",
     "text": [
      "Columns with null values:\n",
      "StockCode_cleaned\n"
     ]
    }
   ],
   "source": [
    "#Checking purchases dataset for null values\n",
    "\n",
    "null_columns = purchases_dataset.columns[purchases_dataset.isnull().any()]\n",
    "\n",
    "if null_columns.empty:\n",
    "    print(\"There are no columns with null values.\")\n",
    "else:\n",
    "    print(\"Columns with null values:\")\n",
    "    for column in null_columns:\n",
    "        print(column)"
   ]
  },
  {
   "cell_type": "markdown",
   "metadata": {},
   "source": [
    "### <span style=\"color:red\"> Question 1 Part 6 Explanation - </span>\n",
    "\n",
    "* To join the three datasets with different sizes—invoices, items, and purchased datasets—we can use appropriate types of database-style joins, primarily relying on the common columns between them.\n",
    "\n",
    "    * Joining Invoices and Purchased Datasets: We can start by joining the invoices and purchased datasets using the 'invoice number' column from the invoices dataset and the 'invoice number' column from the purchased dataset. This will allow us to associate each purchase with the corresponding invoice, which typically forms the core of sales data.\n",
    "\n",
    "    * Joining Items Dataset: After the first join, we can further enrich the merged dataset by joining it with the items dataset. We would use the 'stock code' column, which is common between the merged dataset and the items dataset. This join will add information about the items purchased in each transaction."
   ]
  },
  {
   "cell_type": "markdown",
   "metadata": {},
   "source": [
    "### <span style=\"color:magenta\"> Q2. [10 points] Invoice Analysis </span>\n",
    "1. For each customer calculate how many total invoices they have placed. List the top 10 customers who have placed an invoice in descending order.\n",
    "2. Perform a similar calculation but instead of the number of invoices, calculate the total quantity of items ordered for each customer. List the top 10 customers in descending order.\n",
    "3. Compare the top 10 customers, does it appear that the more invoices a customer have, the greater the total quantity of items? Explain your reasoning.\n",
    "\n",
    "_Hint: For 2.2, you may need to join two datasets together to answer the question._"
   ]
  },
  {
   "cell_type": "code",
   "execution_count": 61,
   "metadata": {},
   "outputs": [
    {
     "name": "stdout",
     "output_type": "stream",
     "text": [
      "Top 10 customers by total invoices:\n",
      "     CustomerID_cleaned  Total_Invoices\n",
      "4339                nan            3540\n",
      "326               12748             211\n",
      "1880              14911             202\n",
      "4011              17841             124\n",
      "562               13089              97\n",
      "1662              14606              95\n",
      "2177              15311              91\n",
      "481               12971              86\n",
      "1690              14646              74\n",
      "2703              16029              63\n"
     ]
    }
   ],
   "source": [
    "#Question 2 Part 1\n",
    "\n",
    "customer_invoice_counts = invoices_dataset.groupby('CustomerID_cleaned').size().reset_index(name='Total_Invoices')\n",
    "sorted_customer_invoice_counts = customer_invoice_counts.sort_values(by='Total_Invoices', ascending=False)\n",
    "top_10_customers = sorted_customer_invoice_counts.head(10)\n",
    "\n",
    "print(\"Top 10 customers by total invoices:\")\n",
    "print(top_10_customers)\n"
   ]
  },
  {
   "cell_type": "code",
   "execution_count": 13,
   "metadata": {},
   "outputs": [
    {
     "name": "stdout",
     "output_type": "stream",
     "text": [
      "Top 10 customers by total quantity:\n"
     ]
    },
    {
     "data": {
      "text/html": [
       "<div>\n",
       "<style scoped>\n",
       "    .dataframe tbody tr th:only-of-type {\n",
       "        vertical-align: middle;\n",
       "    }\n",
       "\n",
       "    .dataframe tbody tr th {\n",
       "        vertical-align: top;\n",
       "    }\n",
       "\n",
       "    .dataframe thead th {\n",
       "        text-align: right;\n",
       "    }\n",
       "</style>\n",
       "<table border=\"1\" class=\"dataframe\">\n",
       "  <thead>\n",
       "    <tr style=\"text-align: right;\">\n",
       "      <th></th>\n",
       "      <th>CustomerID_cleaned</th>\n",
       "      <th>Quantity</th>\n",
       "    </tr>\n",
       "  </thead>\n",
       "  <tbody>\n",
       "    <tr>\n",
       "      <th>4339</th>\n",
       "      <td>nan</td>\n",
       "      <td>490860</td>\n",
       "    </tr>\n",
       "    <tr>\n",
       "      <th>1690</th>\n",
       "      <td>14646</td>\n",
       "      <td>197491</td>\n",
       "    </tr>\n",
       "    <tr>\n",
       "      <th>1880</th>\n",
       "      <td>14911</td>\n",
       "      <td>81009</td>\n",
       "    </tr>\n",
       "    <tr>\n",
       "      <th>3009</th>\n",
       "      <td>16446</td>\n",
       "      <td>80997</td>\n",
       "    </tr>\n",
       "    <tr>\n",
       "      <th>55</th>\n",
       "      <td>12415</td>\n",
       "      <td>77670</td>\n",
       "    </tr>\n",
       "    <tr>\n",
       "      <th>0</th>\n",
       "      <td>12346</td>\n",
       "      <td>74215</td>\n",
       "    </tr>\n",
       "    <tr>\n",
       "      <th>3729</th>\n",
       "      <td>17450</td>\n",
       "      <td>69993</td>\n",
       "    </tr>\n",
       "    <tr>\n",
       "      <th>3772</th>\n",
       "      <td>17511</td>\n",
       "      <td>67423</td>\n",
       "    </tr>\n",
       "    <tr>\n",
       "      <th>4202</th>\n",
       "      <td>18102</td>\n",
       "      <td>64124</td>\n",
       "    </tr>\n",
       "    <tr>\n",
       "      <th>997</th>\n",
       "      <td>13694</td>\n",
       "      <td>63312</td>\n",
       "    </tr>\n",
       "  </tbody>\n",
       "</table>\n",
       "</div>"
      ],
      "text/plain": [
       "     CustomerID_cleaned  Quantity\n",
       "4339                nan    490860\n",
       "1690              14646    197491\n",
       "1880              14911     81009\n",
       "3009              16446     80997\n",
       "55                12415     77670\n",
       "0                 12346     74215\n",
       "3729              17450     69993\n",
       "3772              17511     67423\n",
       "4202              18102     64124\n",
       "997               13694     63312"
      ]
     },
     "execution_count": 13,
     "metadata": {},
     "output_type": "execute_result"
    }
   ],
   "source": [
    "#Question 2 Part 2\n",
    "\n",
    "question2_part2 = invoices_dataset.merge(purchases_dataset, on='InvoiceNo')\n",
    "\n",
    "grouping = question2_part2.groupby('CustomerID_cleaned')['Quantity'].sum().reset_index()\n",
    "grouping_sorted = grouping.sort_values(by='Quantity', ascending=False)\n",
    "\n",
    "print(\"Top 10 customers by total quantity:\")\n",
    "grouping_sorted.head(10)"
   ]
  },
  {
   "cell_type": "markdown",
   "metadata": {},
   "source": [
    "### <span style=\"color:red\"> Question 2 Part 3 Explanation - </span>\n",
    "\n",
    "* It is not true for all cases that customers having the highest number of invoices have the highest overall quantity. But this is true for some cases listed below -\n",
    "* For example - The person with Customer ID 14911 has both 'Total_Invoices' and 'Quantity' in the top 10 customer's list. "
   ]
  },
  {
   "cell_type": "markdown",
   "metadata": {},
   "source": [
    "### <span style=\"color:magenta\"> Q3. [10 points] Item Analysis </span>\n",
    "1. What is the average item-unit price? \n",
    "1. What % of items are under $25?\n",
    "1. Generate a histogram of the unit prices. Select reasonable min/max values for the x-axis. Why did you pick those values? What do you notice about the histogram? "
   ]
  },
  {
   "cell_type": "code",
   "execution_count": 14,
   "metadata": {},
   "outputs": [
    {
     "data": {
      "text/plain": [
       "6.905277886977887"
      ]
     },
     "execution_count": 14,
     "metadata": {},
     "output_type": "execute_result"
    }
   ],
   "source": [
    "#Question 3 Part 1\n",
    "\n",
    "items_dataset['UnitPrice'].mean()"
   ]
  },
  {
   "cell_type": "code",
   "execution_count": 15,
   "metadata": {},
   "outputs": [
    {
     "data": {
      "text/plain": [
       "count     4070.000000\n",
       "mean         6.905278\n",
       "std        173.775142\n",
       "min          0.000000\n",
       "25%          1.250000\n",
       "50%          2.510000\n",
       "75%          4.250000\n",
       "max      11062.060000\n",
       "Name: UnitPrice, dtype: float64"
      ]
     },
     "execution_count": 15,
     "metadata": {},
     "output_type": "execute_result"
    }
   ],
   "source": [
    "items_dataset['UnitPrice'].describe()"
   ]
  },
  {
   "cell_type": "code",
   "execution_count": 16,
   "metadata": {},
   "outputs": [
    {
     "name": "stdout",
     "output_type": "stream",
     "text": [
      "Percentage of items under $25: 98.75%\n"
     ]
    }
   ],
   "source": [
    "#Question 3 Part 2\n",
    "\n",
    "items_under_25 = items_dataset[items_dataset['UnitPrice'] < 25]\n",
    "\n",
    "percentage_under_25 = (len(items_under_25) / len(items_dataset)) * 100\n",
    "\n",
    "print(f\"Percentage of items under $25: {percentage_under_25:.2f}%\")"
   ]
  },
  {
   "cell_type": "code",
   "execution_count": 17,
   "metadata": {},
   "outputs": [
    {
     "data": {
      "image/png": "[encoded data removed]",
      "text/plain": [
       "<Figure size 432x288 with 1 Axes>"
      ]
     },
     "metadata": {
      "needs_background": "light"
     },
     "output_type": "display_data"
    }
   ],
   "source": [
    "#Question 3 Part 3\n",
    "\n",
    "unit_prices = items_dataset['UnitPrice']\n",
    "\n",
    "quantile_1 = items_dataset['UnitPrice'].quantile(0.25)\n",
    "quantile_2 = items_dataset['UnitPrice'].quantile(0.95)\n",
    "plt.hist(unit_prices, bins=20, range=(quantile_1, quantile_2), edgecolor='black')\n",
    "plt.xlabel('Unit Price')\n",
    "plt.ylabel('Frequency')\n",
    "plt.title('Histogram of Unit Prices')\n",
    "plt.show()\n"
   ]
  },
  {
   "cell_type": "markdown",
   "metadata": {},
   "source": [
    "### <span style=\"color:red\"> Question 3 Part 3 Explanation - </span>\n",
    "* The minimum value for the histogram taken is the 25th quantile of Unit Prices.\n",
    "* The maximum value taken for the histogram is the 95th quantile of Unit Prices.\n",
    "* We have taken the 25th & the 95th quantile of Unit Prices as minimum and maximum value respectively as these are the best edge values to depict most of the genuine values of Unit Price, removing the extreme outliers and irregular values on both sides of the spectrum of Unit Prices.\n"
   ]
  },
  {
   "cell_type": "markdown",
   "metadata": {},
   "source": [
    "### <span style=\"color:magenta\"> Q4. [25 points] Order Trends </span>\n",
    "1. What are the top 10 most ordered items? Describe them. Do you see any trends?  \n",
    "1. What are the top 5 invoices that generated the most revenue? (Revenue is calculated by \"marking up\" the unit price by 25%.) \n",
    "1. Do the top 5 invoices contain any of the top 10 most ordered items?\n",
    "\n",
    "_Hint: When calculating the revenue we suggest adding a new column on the dataframe._"
   ]
  },
  {
   "cell_type": "code",
   "execution_count": 59,
   "metadata": {},
   "outputs": [
    {
     "name": "stdout",
     "output_type": "stream",
     "text": [
      "Top 10 most ordered items:\n"
     ]
    },
    {
     "data": {
      "text/html": [
       "<div>\n",
       "<style scoped>\n",
       "    .dataframe tbody tr th:only-of-type {\n",
       "        vertical-align: middle;\n",
       "    }\n",
       "\n",
       "    .dataframe tbody tr th {\n",
       "        vertical-align: top;\n",
       "    }\n",
       "\n",
       "    .dataframe thead th {\n",
       "        text-align: right;\n",
       "    }\n",
       "</style>\n",
       "<table border=\"1\" class=\"dataframe\">\n",
       "  <thead>\n",
       "    <tr style=\"text-align: right;\">\n",
       "      <th></th>\n",
       "      <th>Description</th>\n",
       "      <th>Quantity</th>\n",
       "    </tr>\n",
       "  </thead>\n",
       "  <tbody>\n",
       "    <tr>\n",
       "      <th>1694</th>\n",
       "      <td>JUMBO BAG STRAWBERRY</td>\n",
       "      <td>159646</td>\n",
       "    </tr>\n",
       "    <tr>\n",
       "      <th>3562</th>\n",
       "      <td>WHITE HANGING HEART T-LIGHT HOLDER</td>\n",
       "      <td>83912</td>\n",
       "    </tr>\n",
       "    <tr>\n",
       "      <th>2216</th>\n",
       "      <td>PAPER CRAFT , LITTLE BIRDIE</td>\n",
       "      <td>80995</td>\n",
       "    </tr>\n",
       "    <tr>\n",
       "      <th>1681</th>\n",
       "      <td>JUMBO  BAG BAROQUE BLACK WHITE</td>\n",
       "      <td>79823</td>\n",
       "    </tr>\n",
       "    <tr>\n",
       "      <th>1691</th>\n",
       "      <td>JUMBO BAG RED RETROSPOT</td>\n",
       "      <td>79823</td>\n",
       "    </tr>\n",
       "    <tr>\n",
       "      <th>1906</th>\n",
       "      <td>MEDIUM CERAMIC TOP STORAGE JAR</td>\n",
       "      <td>78033</td>\n",
       "    </tr>\n",
       "    <tr>\n",
       "      <th>3178</th>\n",
       "      <td>SMALL POPCORN HOLDER</td>\n",
       "      <td>56921</td>\n",
       "    </tr>\n",
       "    <tr>\n",
       "      <th>3648</th>\n",
       "      <td>WORLD WAR 2 GLIDERS ASSTD DESIGNS</td>\n",
       "      <td>55047</td>\n",
       "    </tr>\n",
       "    <tr>\n",
       "      <th>3730</th>\n",
       "      <td>ebay</td>\n",
       "      <td>47883</td>\n",
       "    </tr>\n",
       "    <tr>\n",
       "      <th>3732</th>\n",
       "      <td>mailout</td>\n",
       "      <td>44954</td>\n",
       "    </tr>\n",
       "  </tbody>\n",
       "</table>\n",
       "</div>"
      ],
      "text/plain": [
       "                             Description  Quantity\n",
       "1694                JUMBO BAG STRAWBERRY    159646\n",
       "3562  WHITE HANGING HEART T-LIGHT HOLDER     83912\n",
       "2216         PAPER CRAFT , LITTLE BIRDIE     80995\n",
       "1681      JUMBO  BAG BAROQUE BLACK WHITE     79823\n",
       "1691             JUMBO BAG RED RETROSPOT     79823\n",
       "1906      MEDIUM CERAMIC TOP STORAGE JAR     78033\n",
       "3178                SMALL POPCORN HOLDER     56921\n",
       "3648   WORLD WAR 2 GLIDERS ASSTD DESIGNS     55047\n",
       "3730                                ebay     47883\n",
       "3732                             mailout     44954"
      ]
     },
     "execution_count": 59,
     "metadata": {},
     "output_type": "execute_result"
    }
   ],
   "source": [
    "# Question 4 Part 1\n",
    "\n",
    "question4_part1 = items_dataset.merge(purchases_dataset, on='StockCode_cleaned')\n",
    "\n",
    "grouping_2 = question4_part1.groupby('Description')['Quantity'].sum().reset_index()\n",
    "grouping_2_sorted = grouping_2.sort_values(by='Quantity', ascending=False)\n",
    "\n",
    "print(\"Top 10 most ordered items:\")\n",
    "grouping_2_sorted.head(10)"
   ]
  },
  {
   "cell_type": "code",
   "execution_count": 30,
   "metadata": {},
   "outputs": [
    {
     "data": {
      "text/html": [
       "<div>\n",
       "<style scoped>\n",
       "    .dataframe tbody tr th:only-of-type {\n",
       "        vertical-align: middle;\n",
       "    }\n",
       "\n",
       "    .dataframe tbody tr th {\n",
       "        vertical-align: top;\n",
       "    }\n",
       "\n",
       "    .dataframe thead th {\n",
       "        text-align: right;\n",
       "    }\n",
       "</style>\n",
       "<table border=\"1\" class=\"dataframe\">\n",
       "  <thead>\n",
       "    <tr style=\"text-align: right;\">\n",
       "      <th></th>\n",
       "      <th>InvoiceNo</th>\n",
       "      <th>Revenue</th>\n",
       "    </tr>\n",
       "  </thead>\n",
       "  <tbody>\n",
       "    <tr>\n",
       "      <th>19089</th>\n",
       "      <td>578060</td>\n",
       "      <td>23919862.00</td>\n",
       "    </tr>\n",
       "    <tr>\n",
       "      <th>17764</th>\n",
       "      <td>575328</td>\n",
       "      <td>17942641.50</td>\n",
       "    </tr>\n",
       "    <tr>\n",
       "      <th>5180</th>\n",
       "      <td>547966</td>\n",
       "      <td>14949388.75</td>\n",
       "    </tr>\n",
       "    <tr>\n",
       "      <th>1931</th>\n",
       "      <td>540699</td>\n",
       "      <td>14949388.75</td>\n",
       "    </tr>\n",
       "    <tr>\n",
       "      <th>17250</th>\n",
       "      <td>574277</td>\n",
       "      <td>12437891.44</td>\n",
       "    </tr>\n",
       "  </tbody>\n",
       "</table>\n",
       "</div>"
      ],
      "text/plain": [
       "      InvoiceNo      Revenue\n",
       "19089    578060  23919862.00\n",
       "17764    575328  17942641.50\n",
       "5180     547966  14949388.75\n",
       "1931     540699  14949388.75\n",
       "17250    574277  12437891.44"
      ]
     },
     "execution_count": 30,
     "metadata": {},
     "output_type": "execute_result"
    }
   ],
   "source": [
    "# Question 4 Part 2\n",
    "\n",
    "combined_df = question4_part1.merge(invoices_dataset, on='InvoiceNo')\n",
    "\n",
    "#Calculating revenue for each row\n",
    "combined_df['Revenue'] = combined_df['UnitPrice']*combined_df['Quantity'] * 1.25\n",
    "\n",
    "combined_df['Revenue'] = combined_df['Revenue'].round(2)\n",
    "\n",
    "grouping_3 = combined_df.groupby('InvoiceNo')['Revenue'].sum().reset_index()\n",
    "grouping_3_sorted = grouping_3.sort_values(by='Revenue', ascending=False).head(5)\n",
    "\n",
    "grouping_3_sorted"
   ]
  },
  {
   "cell_type": "code",
   "execution_count": 32,
   "metadata": {},
   "outputs": [
    {
     "data": {
      "text/plain": [
       "InvoiceNo  Description                        \n",
       "536365     CREAM CUPID HEARTS COAT HANGER          8\n",
       "           GLASS STAR FROSTED T-LIGHT HOLDER       6\n",
       "           KNITTED UNION FLAG HOT WATER BOTTLE    12\n",
       "           RED WOOLLY HOTTIE WHITE HEART.         12\n",
       "           SET 7 BABUSHKA NESTING BOXES            2\n",
       "                                                  ..\n",
       "A563187    PADS TO MATCH ALL CUSHIONS              1\n",
       "           POSTAGE                                 1\n",
       "           SAMPLES                                 1\n",
       "           SUNJAR LED NIGHT NIGHT LIGHT            1\n",
       "           ebay                                    3\n",
       "Name: Quantity, Length: 627146, dtype: int64"
      ]
     },
     "execution_count": 32,
     "metadata": {},
     "output_type": "execute_result"
    }
   ],
   "source": [
    "# Quesrion 4 Part 3\n",
    "\n",
    "combined_df.groupby(['InvoiceNo', 'Description'])['Quantity'].sum()"
   ]
  },
  {
   "cell_type": "code",
   "execution_count": 58,
   "metadata": {},
   "outputs": [
    {
     "data": {
      "text/html": [
       "<div>\n",
       "<style scoped>\n",
       "    .dataframe tbody tr th:only-of-type {\n",
       "        vertical-align: middle;\n",
       "    }\n",
       "\n",
       "    .dataframe tbody tr th {\n",
       "        vertical-align: top;\n",
       "    }\n",
       "\n",
       "    .dataframe thead th {\n",
       "        text-align: right;\n",
       "    }\n",
       "</style>\n",
       "<table border=\"1\" class=\"dataframe\">\n",
       "  <thead>\n",
       "    <tr style=\"text-align: right;\">\n",
       "      <th></th>\n",
       "      <th>StockCode</th>\n",
       "      <th>Description</th>\n",
       "      <th>UnitPrice</th>\n",
       "      <th>StockCode_cleaned</th>\n",
       "      <th>InvoiceNo</th>\n",
       "      <th>StockCodeSC</th>\n",
       "      <th>Quantity</th>\n",
       "      <th>InvoiceDate</th>\n",
       "      <th>CustomerID</th>\n",
       "      <th>Country</th>\n",
       "      <th>CustomerID_cleaned</th>\n",
       "      <th>Revenue</th>\n",
       "    </tr>\n",
       "  </thead>\n",
       "  <tbody>\n",
       "    <tr>\n",
       "      <th>0</th>\n",
       "      <td>85123A</td>\n",
       "      <td>WHITE HANGING HEART T-LIGHT HOLDER</td>\n",
       "      <td>2.55</td>\n",
       "      <td>85123</td>\n",
       "      <td>536365</td>\n",
       "      <td>SC85123A</td>\n",
       "      <td>6</td>\n",
       "      <td>12/1/10 8:26</td>\n",
       "      <td>17850.0</td>\n",
       "      <td>United Kingdom</td>\n",
       "      <td>17850</td>\n",
       "      <td>19.12</td>\n",
       "    </tr>\n",
       "    <tr>\n",
       "      <th>1</th>\n",
       "      <td>85123a</td>\n",
       "      <td>WHITE HANGING HEART T-LIGHT HOLDER</td>\n",
       "      <td>6.77</td>\n",
       "      <td>85123</td>\n",
       "      <td>536365</td>\n",
       "      <td>SC85123A</td>\n",
       "      <td>6</td>\n",
       "      <td>12/1/10 8:26</td>\n",
       "      <td>17850.0</td>\n",
       "      <td>United Kingdom</td>\n",
       "      <td>17850</td>\n",
       "      <td>50.78</td>\n",
       "    </tr>\n",
       "  </tbody>\n",
       "</table>\n",
       "</div>"
      ],
      "text/plain": [
       "  StockCode                         Description  UnitPrice StockCode_cleaned  \\\n",
       "0    85123A  WHITE HANGING HEART T-LIGHT HOLDER       2.55             85123   \n",
       "1    85123a  WHITE HANGING HEART T-LIGHT HOLDER       6.77             85123   \n",
       "\n",
       "  InvoiceNo StockCodeSC  Quantity   InvoiceDate  CustomerID         Country  \\\n",
       "0    536365    SC85123A         6  12/1/10 8:26     17850.0  United Kingdom   \n",
       "1    536365    SC85123A         6  12/1/10 8:26     17850.0  United Kingdom   \n",
       "\n",
       "  CustomerID_cleaned  Revenue  \n",
       "0              17850    19.12  \n",
       "1              17850    50.78  "
      ]
     },
     "execution_count": 58,
     "metadata": {},
     "output_type": "execute_result"
    }
   ],
   "source": [
    "combined_df.head(2)"
   ]
  },
  {
   "cell_type": "markdown",
   "metadata": {},
   "source": [
    "### <span style=\"color:red\"> Question 4 Part 3 Explanation - </span>\n",
    "\n",
    "* Yes, the top 5 invoices contain some products which are in the top 10 lists of most ordered products"
   ]
  },
  {
   "cell_type": "markdown",
   "metadata": {},
   "source": [
    "### <span style=\"color:magenta\"> Q5. [30 points] Customer Analysis </span>\n",
    "1. Classify customers into segments based on the total revenue they have generated for the company.\n",
    " * low value: less than \\$1750  \n",
    " * medium value: between 1750 and 8250 dollars\n",
    " * high value: greater than \\$8250\n",
    "1. How many customers are in each segment? \n",
    "1. Using the pivot table function, create a table that displays the average order quantity of each stock code for a given segment.\n",
    "1. Are the items with the highest average order quantity generally the same across segments? Explain your reasoning. \n",
    "1. Choose three items and discuss any trends/differences you notice across the three segments.\n",
    "\n",
    "_Hint: When calculating the segment, we suggest constructing a new dataframe as an intermediary step with the columns: CustomerID, Revenue, Segment._"
   ]
  },
  {
   "cell_type": "code",
   "execution_count": 34,
   "metadata": {},
   "outputs": [
    {
     "name": "stdout",
     "output_type": "stream",
     "text": [
      "Number of customers in each segment:\n",
      "Low Value       2279\n",
      "Medium Value    1217\n",
      "High Value       844\n",
      "Name: Segment, dtype: int64\n",
      "Pivot table displaying average order quantities:\n"
     ]
    },
    {
     "data": {
      "text/html": [
       "<div>\n",
       "<style scoped>\n",
       "    .dataframe tbody tr th:only-of-type {\n",
       "        vertical-align: middle;\n",
       "    }\n",
       "\n",
       "    .dataframe tbody tr th {\n",
       "        vertical-align: top;\n",
       "    }\n",
       "\n",
       "    .dataframe thead th {\n",
       "        text-align: right;\n",
       "    }\n",
       "</style>\n",
       "<table border=\"1\" class=\"dataframe\">\n",
       "  <thead>\n",
       "    <tr style=\"text-align: right;\">\n",
       "      <th>Segment</th>\n",
       "      <th>Low Value</th>\n",
       "      <th>Medium Value</th>\n",
       "      <th>High Value</th>\n",
       "    </tr>\n",
       "    <tr>\n",
       "      <th>StockCode_cleaned</th>\n",
       "      <th></th>\n",
       "      <th></th>\n",
       "      <th></th>\n",
       "    </tr>\n",
       "  </thead>\n",
       "  <tbody>\n",
       "    <tr>\n",
       "      <th>15036</th>\n",
       "      <td>330.0</td>\n",
       "      <td>NaN</td>\n",
       "      <td>NaN</td>\n",
       "    </tr>\n",
       "    <tr>\n",
       "      <th>15039</th>\n",
       "      <td>20.0</td>\n",
       "      <td>NaN</td>\n",
       "      <td>NaN</td>\n",
       "    </tr>\n",
       "    <tr>\n",
       "      <th>16016</th>\n",
       "      <td>100.0</td>\n",
       "      <td>NaN</td>\n",
       "      <td>NaN</td>\n",
       "    </tr>\n",
       "    <tr>\n",
       "      <th>16225</th>\n",
       "      <td>192.0</td>\n",
       "      <td>NaN</td>\n",
       "      <td>NaN</td>\n",
       "    </tr>\n",
       "    <tr>\n",
       "      <th>20713</th>\n",
       "      <td>100.0</td>\n",
       "      <td>NaN</td>\n",
       "      <td>NaN</td>\n",
       "    </tr>\n",
       "  </tbody>\n",
       "</table>\n",
       "</div>"
      ],
      "text/plain": [
       "Segment            Low Value  Medium Value  High Value\n",
       "StockCode_cleaned                                     \n",
       "15036                  330.0           NaN         NaN\n",
       "15039                   20.0           NaN         NaN\n",
       "16016                  100.0           NaN         NaN\n",
       "16225                  192.0           NaN         NaN\n",
       "20713                  100.0           NaN         NaN"
      ]
     },
     "execution_count": 34,
     "metadata": {},
     "output_type": "execute_result"
    }
   ],
   "source": [
    "# Question 5\n",
    "\n",
    "customer_revenue = combined_df.groupby('CustomerID_cleaned')['Revenue'].sum().reset_index()\n",
    "customer_revenue['Segment'] = pd.cut(\n",
    "    customer_revenue['Revenue'],\n",
    "    bins=[0, 1750, 8250, float('inf')],\n",
    "    labels=['Low Value', 'Medium Value', 'High Value']\n",
    ")\n",
    "\n",
    "customer_revenue_join = customer_revenue.merge(combined_df, on=['Revenue', 'CustomerID_cleaned'])\n",
    "\n",
    "pivot_table = pd.pivot_table(customer_revenue_join, values='Quantity', index='StockCode_cleaned', \n",
    "                             columns='Segment', aggfunc='mean', dropna=False)\n",
    "\n",
    "# Question 5 Part 1\n",
    "segment_counts = customer_revenue['Segment'].value_counts()\n",
    "print(\"Number of customers in each segment:\")\n",
    "print(segment_counts)\n",
    "\n",
    "pivot_table['Low Value']=pivot_table['Low Value'].round(2)\n",
    "pivot_table['Medium Value']=pivot_table['Medium Value'].round(2)\n",
    "pivot_table['High Value']=pivot_table['High Value'].round(2)\n",
    "\n",
    "# Question 5 Part 2\n",
    "print(\"Pivot table displaying average order quantities:\")\n",
    "pivot_table.head()\n"
   ]
  },
  {
   "cell_type": "code",
   "execution_count": 37,
   "metadata": {},
   "outputs": [
    {
     "data": {
      "text/plain": [
       "Segment\n",
       "Low Value       84568\n",
       "Medium Value    22197\n",
       "High Value      23166\n",
       "dtype: object"
      ]
     },
     "execution_count": 37,
     "metadata": {},
     "output_type": "execute_result"
    }
   ],
   "source": [
    "pivot_table.idxmax()"
   ]
  },
  {
   "cell_type": "code",
   "execution_count": 52,
   "metadata": {},
   "outputs": [
    {
     "data": {
      "text/plain": [
       "Segment\n",
       "Low Value       1440.0\n",
       "Medium Value       NaN\n",
       "High Value         NaN\n",
       "Name: 84568, dtype: float64"
      ]
     },
     "execution_count": 52,
     "metadata": {},
     "output_type": "execute_result"
    }
   ],
   "source": [
    "pivot_table.loc[pivot_table['Low Value'].idxmax()]"
   ]
  },
  {
   "cell_type": "code",
   "execution_count": 46,
   "metadata": {},
   "outputs": [
    {
     "data": {
      "text/plain": [
       "Segment\n",
       "Low Value          NaN\n",
       "Medium Value    4300.0\n",
       "High Value         NaN\n",
       "Name: 22197, dtype: float64"
      ]
     },
     "execution_count": 46,
     "metadata": {},
     "output_type": "execute_result"
    }
   ],
   "source": [
    "pivot_table.loc[pivot_table['Medium Value'].idxmax()]"
   ]
  },
  {
   "cell_type": "code",
   "execution_count": 47,
   "metadata": {},
   "outputs": [
    {
     "data": {
      "text/plain": [
       "Segment\n",
       "Low Value           NaN\n",
       "Medium Value        NaN\n",
       "High Value      74215.0\n",
       "Name: 23166, dtype: float64"
      ]
     },
     "execution_count": 47,
     "metadata": {},
     "output_type": "execute_result"
    }
   ],
   "source": [
    "pivot_table.loc[pivot_table['High Value'].idxmax()]"
   ]
  },
  {
   "cell_type": "code",
   "execution_count": 57,
   "metadata": {},
   "outputs": [
    {
     "data": {
      "text/html": [
       "<div>\n",
       "<style scoped>\n",
       "    .dataframe tbody tr th:only-of-type {\n",
       "        vertical-align: middle;\n",
       "    }\n",
       "\n",
       "    .dataframe tbody tr th {\n",
       "        vertical-align: top;\n",
       "    }\n",
       "\n",
       "    .dataframe thead th {\n",
       "        text-align: right;\n",
       "    }\n",
       "</style>\n",
       "<table border=\"1\" class=\"dataframe\">\n",
       "  <thead>\n",
       "    <tr style=\"text-align: right;\">\n",
       "      <th></th>\n",
       "      <th>CustomerID_cleaned</th>\n",
       "      <th>Revenue</th>\n",
       "      <th>Segment</th>\n",
       "      <th>StockCode</th>\n",
       "      <th>Description</th>\n",
       "      <th>UnitPrice</th>\n",
       "      <th>StockCode_cleaned</th>\n",
       "      <th>InvoiceNo</th>\n",
       "      <th>StockCodeSC</th>\n",
       "      <th>Quantity</th>\n",
       "      <th>InvoiceDate</th>\n",
       "      <th>CustomerID</th>\n",
       "      <th>Country</th>\n",
       "    </tr>\n",
       "  </thead>\n",
       "  <tbody>\n",
       "    <tr>\n",
       "      <th>0</th>\n",
       "      <td>12346</td>\n",
       "      <td>96479.50</td>\n",
       "      <td>High Value</td>\n",
       "      <td>23166</td>\n",
       "      <td>MEDIUM CERAMIC TOP STORAGE JAR</td>\n",
       "      <td>1.04</td>\n",
       "      <td>23166</td>\n",
       "      <td>541431</td>\n",
       "      <td>SC23166</td>\n",
       "      <td>74215</td>\n",
       "      <td>1/18/11 10:01</td>\n",
       "      <td>12346.0</td>\n",
       "      <td>United Kingdom</td>\n",
       "    </tr>\n",
       "    <tr>\n",
       "      <th>1</th>\n",
       "      <td>13017</td>\n",
       "      <td>297.00</td>\n",
       "      <td>Low Value</td>\n",
       "      <td>22112</td>\n",
       "      <td>CHOCOLATE HOT WATER BOTTLE</td>\n",
       "      <td>4.95</td>\n",
       "      <td>22112</td>\n",
       "      <td>580331</td>\n",
       "      <td>SC22112</td>\n",
       "      <td>48</td>\n",
       "      <td>12/2/11 15:53</td>\n",
       "      <td>13017.0</td>\n",
       "      <td>United Kingdom</td>\n",
       "    </tr>\n",
       "    <tr>\n",
       "      <th>2</th>\n",
       "      <td>13099</td>\n",
       "      <td>306.00</td>\n",
       "      <td>Low Value</td>\n",
       "      <td>21422</td>\n",
       "      <td>PORCELAIN ROSE SMALL</td>\n",
       "      <td>0.85</td>\n",
       "      <td>21422</td>\n",
       "      <td>565217</td>\n",
       "      <td>SC21422</td>\n",
       "      <td>288</td>\n",
       "      <td>9/1/11 17:40</td>\n",
       "      <td>13099.0</td>\n",
       "      <td>United Kingdom</td>\n",
       "    </tr>\n",
       "    <tr>\n",
       "      <th>3</th>\n",
       "      <td>13106</td>\n",
       "      <td>228.82</td>\n",
       "      <td>Low Value</td>\n",
       "      <td>22456</td>\n",
       "      <td>NATURAL SLATE CHALKBOARD LARGE</td>\n",
       "      <td>10.17</td>\n",
       "      <td>22456</td>\n",
       "      <td>561811</td>\n",
       "      <td>SC22456</td>\n",
       "      <td>18</td>\n",
       "      <td>7/29/11 15:12</td>\n",
       "      <td>13106.0</td>\n",
       "      <td>United Kingdom</td>\n",
       "    </tr>\n",
       "    <tr>\n",
       "      <th>4</th>\n",
       "      <td>13120</td>\n",
       "      <td>31.50</td>\n",
       "      <td>Low Value</td>\n",
       "      <td>82482</td>\n",
       "      <td>WOODEN PICTURE FRAME WHITE FINISH</td>\n",
       "      <td>2.10</td>\n",
       "      <td>82482</td>\n",
       "      <td>550198</td>\n",
       "      <td>SC82482</td>\n",
       "      <td>12</td>\n",
       "      <td>4/15/11 10:19</td>\n",
       "      <td>13120.0</td>\n",
       "      <td>United Kingdom</td>\n",
       "    </tr>\n",
       "  </tbody>\n",
       "</table>\n",
       "</div>"
      ],
      "text/plain": [
       "  CustomerID_cleaned   Revenue     Segment StockCode  \\\n",
       "0              12346  96479.50  High Value     23166   \n",
       "1              13017    297.00   Low Value     22112   \n",
       "2              13099    306.00   Low Value     21422   \n",
       "3              13106    228.82   Low Value     22456   \n",
       "4              13120     31.50   Low Value     82482   \n",
       "\n",
       "                         Description  UnitPrice StockCode_cleaned InvoiceNo  \\\n",
       "0     MEDIUM CERAMIC TOP STORAGE JAR       1.04             23166    541431   \n",
       "1         CHOCOLATE HOT WATER BOTTLE       4.95             22112    580331   \n",
       "2               PORCELAIN ROSE SMALL       0.85             21422    565217   \n",
       "3    NATURAL SLATE CHALKBOARD LARGE       10.17             22456    561811   \n",
       "4  WOODEN PICTURE FRAME WHITE FINISH       2.10             82482    550198   \n",
       "\n",
       "  StockCodeSC  Quantity    InvoiceDate  CustomerID         Country  \n",
       "0     SC23166     74215  1/18/11 10:01     12346.0  United Kingdom  \n",
       "1     SC22112        48  12/2/11 15:53     13017.0  United Kingdom  \n",
       "2     SC21422       288   9/1/11 17:40     13099.0  United Kingdom  \n",
       "3     SC22456        18  7/29/11 15:12     13106.0  United Kingdom  \n",
       "4     SC82482        12  4/15/11 10:19     13120.0  United Kingdom  "
      ]
     },
     "execution_count": 57,
     "metadata": {},
     "output_type": "execute_result"
    }
   ],
   "source": [
    "customer_revenue_join.head(5)"
   ]
  },
  {
   "cell_type": "markdown",
   "metadata": {},
   "source": [
    "### <span style=\"color:red\"> Question 5 Part 3 Explantion - </span>\n",
    "\n",
    "* No, all the items having highest average order quantity are not same across all segments since there is a huge gap in constructing the segments corresponding to Low Value, Medium Value & High Value."
   ]
  },
  {
   "cell_type": "markdown",
   "metadata": {},
   "source": [
    "### <span style=\"color:red\"> Question 5 Part 4 Explanation - </span>\n",
    "* For example we can take three products, each from one segment\n",
    "    * Low Value - Chocolate Hot Water Bottle (48 qty)\n",
    "    * Medium Value - Small Popcorn Holder (4300 qty)\n",
    "    * High Value - Medium Ceramic Top Storage Jar (74215 qty)<p>\n",
    "\n",
    "* What we can notice is that the products in the high value segment have vast difference in quantity over the medium and lower value segment products which shows the discfrepancy in the buying trends of the customers."
   ]
  },
  {
   "cell_type": "markdown",
   "metadata": {},
   "source": [
    "# Please submit your completed notebook in .IPYNB and .HTML formats via Canvas"
   ]
  }
 ],
 "metadata": {
  "kernelspec": {
   "display_name": "Python 3 (ipykernel)",
   "language": "python",
   "name": "python3"
  },
  "language_info": {
   "codemirror_mode": {
    "name": "ipython",
    "version": 3
   },
   "file_extension": ".py",
   "mimetype": "text/x-python",
   "name": "python",
   "nbconvert_exporter": "python",
   "pygments_lexer": "ipython3",
   "version": "3.9.2"
  }
 },
 "nbformat": 4,
 "nbformat_minor": 4
}
