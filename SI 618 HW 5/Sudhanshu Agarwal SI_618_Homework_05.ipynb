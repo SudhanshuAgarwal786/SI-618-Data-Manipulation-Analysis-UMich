{
 "cells": [
  {
   "cell_type": "markdown",
   "metadata": {},
   "source": [
    "# SI 618 Homework 5 - Natural Language Processing"
   ]
  },
  {
   "cell_type": "markdown",
   "metadata": {},
   "source": [
    "### The total score for this assignment will be 100 points, consisting of:\n",
    "- 10 pt: Overall quality of spelling, grammar, punctuation, etc. of written sentences.\n",
    "- 10 pt: Code is written in [PEP 8](https://www.python.org/dev/peps/pep-0008/) style.\n",
    "- 80 pt: Homework questions. Questions 1 through 6 are worth 10 points each; Question 7 is worth 20 points.\n",
    "\n",
    "Version 2023.10.10.1.CT"
   ]
  },
  {
   "cell_type": "markdown",
   "metadata": {},
   "source": [
    "## Background\n",
    "(From https://www.kaggle.com/datasets/diegosilvadefrana/2023-data-scientists-jobs-descriptions)\n",
    "### 2023 Data Scientists Jobs Descriptions\n",
    "This dataset was obtained from the Google Jobs API through serpAPI and contains information about job offers for data scientists in companies based in the United States of America (USA). The data may include details such as job title, company name, location, job description, salary range, and other relevant information. The dataset is likely to be valuable for individuals seeking to understand the job market for data scientists in the USA and for companies looking to recruit data scientists. It may also be useful for researchers who are interested in exploring trends and patterns in the job market for data scientists. The data should be used with caution, as the API source may not cover all job offers in the USA and the information provided by the companies may not always be accurate or up-to-date.\n",
    "\n",
    "The goal of this homework assignment is to investigate those job descriptions.\n",
    "\n",
    "The data file is available via https://www.kaggle.com/datasets/diegosilvadefrana/2023-data-scientists-jobs-descriptions/download?datasetVersionNumber=1."
   ]
  },
  {
   "cell_type": "markdown",
   "metadata": {},
   "source": [
    "Note that *you* will need to make decisions about how you\n",
    "proceed with the analysis.  For example, you will need to \n",
    "decide whether you include or omit stopwords, whether you stem or lemmatize words before analysis, and how you handle weird situations."
   ]
  },
  {
   "cell_type": "markdown",
   "metadata": {},
   "source": [
    "Please fill in your uniqname in the next code cell:"
   ]
  },
  {
   "cell_type": "code",
   "execution_count": 118,
   "metadata": {},
   "outputs": [],
   "source": [
    "MY_UNIQNAME = \"sudhagar\""
   ]
  },
  {
   "cell_type": "markdown",
   "metadata": {},
   "source": [
    "Answer each of the questions below.  You are encouraged to use as many code and markdown cells as you need for each question.\n",
    "\n",
    "We **strongly** suggest running all cells from top to bottom before you submit your notebook."
   ]
  },
  {
   "cell_type": "code",
   "execution_count": 1,
   "metadata": {},
   "outputs": [
    {
     "name": "stderr",
     "output_type": "stream",
     "text": [
      "[nltk_data] Downloading package punkt to\n",
      "[nltk_data]     C:\\Users\\hp\\AppData\\Roaming\\nltk_data...\n",
      "[nltk_data]   Package punkt is already up-to-date!\n",
      "[nltk_data] Downloading package averaged_perceptron_tagger to\n",
      "[nltk_data]     C:\\Users\\hp\\AppData\\Roaming\\nltk_data...\n",
      "[nltk_data]   Package averaged_perceptron_tagger is already up-to-\n",
      "[nltk_data]       date!\n",
      "[nltk_data] Downloading package maxent_ne_chunker to\n",
      "[nltk_data]     C:\\Users\\hp\\AppData\\Roaming\\nltk_data...\n",
      "[nltk_data]   Package maxent_ne_chunker is already up-to-date!\n",
      "[nltk_data] Downloading package words to\n",
      "[nltk_data]     C:\\Users\\hp\\AppData\\Roaming\\nltk_data...\n",
      "[nltk_data]   Package words is already up-to-date!\n",
      "[nltk_data] Downloading package stopwords to\n",
      "[nltk_data]     C:\\Users\\hp\\AppData\\Roaming\\nltk_data...\n",
      "[nltk_data]   Package stopwords is already up-to-date!\n"
     ]
    },
    {
     "data": {
      "text/plain": [
       "True"
      ]
     },
     "execution_count": 1,
     "metadata": {},
     "output_type": "execute_result"
    }
   ],
   "source": [
    "import numpy as np\n",
    "import pandas as pd\n",
    "import matplotlib.pyplot as plt\n",
    "import seaborn as sns\n",
    "import re\n",
    "from collections import Counter\n",
    "import spacy\n",
    "from nltk.corpus import stopwords\n",
    "from nltk.tokenize import sent_tokenize, word_tokenize\n",
    "import nltk\n",
    "\n",
    "nltk.download('punkt')\n",
    "nltk.download('averaged_perceptron_tagger')\n",
    "nltk.download('maxent_ne_chunker')\n",
    "nltk.download('words')\n",
    "nltk.download('stopwords')"
   ]
  },
  {
   "cell_type": "markdown",
   "metadata": {},
   "source": [
    "#### Important Note\n",
    "**You are not permitted to use additional packages beyond those that are already imported in the cell above, although you are welcome to import subpackages from the packages listed in the previous cell (e.g., `from spacy.lang.en.stop_words import STOP_WORDS` is fine, whereas `import fuzzywuzzy` or `from hyphenate import hyphenate_word` are not).**"
   ]
  },
  {
   "cell_type": "code",
   "execution_count": 2,
   "metadata": {},
   "outputs": [
    {
     "name": "stdout",
     "output_type": "stream",
     "text": [
      "   Unnamed: 0                                       title  \\\n",
      "0           0  Senior Analyst, Data Science and Analytics   \n",
      "1           1                       Senior Data Scientist   \n",
      "2           2                   Lead Data Science Analyst   \n",
      "3           3                         Data Science Intern   \n",
      "4           4                              Data Scientist   \n",
      "\n",
      "                             company  announcement  \\\n",
      "0                         TransUnion      The Muse   \n",
      "1             Grubhub Holdings, Inc.  ZipRecruiter   \n",
      "2        Discover Financial Services      LinkedIn   \n",
      "3                      AbelsonTaylor  Startup Jobs   \n",
      "4  NORC at the University of Chicago   SimplyHired   \n",
      "\n",
      "                                         description  \n",
      "0  TransUnion's Job Applicant Privacy Notice  Wha...  \n",
      "1  About The Opportunity  We're all about connect...  \n",
      "2  Discover. A brighter future.  With us, you’ll ...  \n",
      "3  Are you a 2023 college graduate or rising coll...  \n",
      "4  JOB DESCRIPTION:  At NORC, Data Scientists pla...  \n"
     ]
    }
   ],
   "source": [
    "# Read the CSV file\n",
    "file_path = \"C:/Users/hp/Downloads/UMich Fall Sem 23-24/SI 618/SI 618 HW 5/Jobs.csv\"\n",
    "jobs = pd.read_csv(file_path)\n",
    "\n",
    "# Display the first 5 rows of the DataFrame\n",
    "print(jobs.head(5))"
   ]
  },
  {
   "cell_type": "markdown",
   "metadata": {},
   "source": [
    "## 1. What percentage of jobs include the phrase \"data scientist\" or \"data science\" in their title?  \n",
    "Note that you will need to make (good) decisions about normalizing (i.e. converting to lowercase), how to handle \"close\" matches, etc. \n",
    "#"
   ]
  },
  {
   "cell_type": "code",
   "execution_count": 3,
   "metadata": {},
   "outputs": [
    {
     "name": "stdout",
     "output_type": "stream",
     "text": [
      "The percentage of jobs that include 'data scientist' or 'data science' in their title is 41.392405063291136 %\n"
     ]
    }
   ],
   "source": [
    "# Load the English language model\n",
    "nlp = spacy.load('en_core_web_sm')\n",
    "\n",
    "# Delete the 'Unnamed: 0' column\n",
    "del jobs[\"Unnamed: 0\"]\n",
    "\n",
    "# Normalize the 'title' column by converting it to lowercase\n",
    "jobs['title'] = jobs['title'].str.lower()\n",
    "\n",
    "# Find all rows where the 'title' column contains 'data scientist' or 'data science'\n",
    "data_science_jobs = jobs[jobs['title'].str.contains('data scientist|data science')]\n",
    "\n",
    "# Calculate the percentage\n",
    "percentage = (len(data_science_jobs) / len(jobs)) * 100\n",
    "\n",
    "# Print the result\n",
    "print(f\"The percentage of jobs that include 'data scientist' or 'data science' in their title is {percentage} %\")"
   ]
  },
  {
   "cell_type": "markdown",
   "metadata": {},
   "source": [
    "### <span style=\"color:red\"> Question 1 Interpretation - </span>\n",
    "* Out of all the jobs in the given dataset, approximately 41.39% of them have titles that contain either \"data scientist\" or \"data science.\" This percentage gives us an idea of how prevalent these specific terms are in the job titles within the dataset. It suggests that a significant portion of the jobs are related to the field of data science or require data science skills."
   ]
  },
  {
   "cell_type": "markdown",
   "metadata": {},
   "source": [
    "### 2. Create a visualization that shows the distribution of words counts of the descriptions. Omit stopwords. Describe what the visualization shows you. (Hint: a histogram is a good choice here.)"
   ]
  },
  {
   "cell_type": "code",
   "execution_count": 4,
   "metadata": {},
   "outputs": [
    {
     "data": {
      "image/png": "[encoded data removed]",
      "text/plain": [
       "<Figure size 720x432 with 1 Axes>"
      ]
     },
     "metadata": {
      "needs_background": "light"
     },
     "output_type": "display_data"
    }
   ],
   "source": [
    "# Tokenize the 'description' column and remove stopwords\n",
    "stop_words = set(stopwords.words('english'))\n",
    "\n",
    "# Apply tokenization and stopword removal\n",
    "jobs['description_no_stopwords'] = jobs['description'].apply(lambda x: [word for word in word_tokenize(x.lower()) if word.isalpha() and word not in stop_words])\n",
    "\n",
    "# Calculate word counts\n",
    "jobs['word_count'] = jobs['description_no_stopwords'].apply(len)\n",
    "\n",
    "plt.figure(figsize=(10, 6))\n",
    "sns.histplot(jobs['word_count'], bins=20, kde=True, color='red')\n",
    "plt.title('Distribution of Word Counts in Job Descriptions (without stopwords)')\n",
    "plt.xlabel('Word Count')\n",
    "plt.ylabel('Frequency')\n",
    "plt.show()"
   ]
  },
  {
   "cell_type": "markdown",
   "metadata": {},
   "source": [
    "### <span style=\"color:red\"> Question 2 Interpretation - </span>\n",
    "* According to the histogram created above (after omitting the stopwords), the frequency of job descriptions with close to 400 words is the highest and the frequncy of JDs with more than 1000 words is very low.\n",
    "* This shows that the employers/companies do not tend to give very lengthy JDs instead they choose to keep it precise and to the point."
   ]
  },
  {
   "cell_type": "markdown",
   "metadata": {},
   "source": [
    "### 3. Based on the descriptions, create a bar chart showing the top 10 tools used by data scientists.\n",
    "Here is a list of tools to consider: Python, R, SQL, Jupyter, NumPy, Pandas, Matplotlib, Seaborn, SciPy, Scikit-Learn, TensorFlow, PyTorch, Keras, XGBoost, Plotly, Dask, Spark, Hadoop, AWS, Google Cloud, Azure, IBM Watson, NLTK, OpenCV, Gensim, StatsModels, Theano, Caffe, Bokeh, Folium, ggplot, Geopandas, Yellowbrick, Flask, Dash, Streamlit, FastAPI, PySpark, TensorBoard, NetworkX, BeautifulSoup, Scrapy, Numba, Cython, Git\n",
    "\n",
    "Provide an interpretation of your bar chart -- what does it tell you?\n"
   ]
  },
  {
   "cell_type": "code",
   "execution_count": 134,
   "metadata": {},
   "outputs": [],
   "source": [
    "# List of tools\n",
    "tools = ['python', 'r', 'sql', 'jupyter', 'numpy', 'pandas', 'matplotlib', 'seaborn', 'scipy', 'scikit-learn', 'tensorflow', 'pytorch',\n",
    "         'keras', 'xgboost', 'plotly', 'dask', 'spark', 'hadoop', 'aws', 'google cloud', 'azure', 'ibm watson', 'nltk', 'opencv', \n",
    "         'gensim', 'statsmodels', 'theano', 'caffe', 'bokeh', 'folium', 'ggplot', 'geopandas', 'yellowbrick', 'flask', 'dash', 'streamlit',\n",
    "         'fastapi', 'pyspark', 'tensorboard', 'networkx', 'beautifulsoup', 'scrapy', 'numba', 'cython', 'git']\n"
   ]
  },
  {
   "cell_type": "code",
   "execution_count": 148,
   "metadata": {},
   "outputs": [
    {
     "data": {
      "image/png": "[encoded data removed]",
      "text/plain": [
       "<Figure size 864x432 with 1 Axes>"
      ]
     },
     "metadata": {
      "needs_background": "light"
     },
     "output_type": "display_data"
    }
   ],
   "source": [
    "# Normalize the 'description' column by converting to lowercase\n",
    "jobs['description'] = jobs['description'].str.lower()\n",
    "\n",
    "# Initialize a counter for tools\n",
    "tool_counts = {tool:0 for tool in tools}\n",
    "\n",
    "# Count the tools using regex with word boundaries\n",
    "for tool in tools:\n",
    "    tool_counts[tool] = jobs['description'].str.count(r'\\b' + re.escape(tool) + r'\\b', flags=re.IGNORECASE).sum()\n",
    "\n",
    "# Convert the dictionary to a DataFrame\n",
    "tool_df = pd.DataFrame(list(tool_counts.items()), columns=['tool', 'count'])\n",
    "\n",
    "# Get the top 10 most common tools\n",
    "top_tools = tool_df.nlargest(10, 'count')\n",
    "\n",
    "plt.figure(figsize=(12, 6))\n",
    "sns.barplot(x='count', y='tool', data=top_tools, palette='viridis')\n",
    "plt.title('Top 10 Tools Used by Data Scientists')\n",
    "plt.xlabel('Frequency')\n",
    "plt.ylabel('Tool')\n",
    "plt.show()"
   ]
  },
  {
   "cell_type": "markdown",
   "metadata": {},
   "source": [
    "### <span style=\"color:red\"> Question 3 Interpretation - </span>\n",
    "* After observing the above bar graph, we can say that SQL is the most commonly mentioned tool in job descriptions for data scientists. This indicates that proficiency in SQL is highly sought after in data science roles, as it is fundamental for working with databases and extracting, transforming, and analyzing data.\n",
    "* This bar chart is a valuable resource for job seekers looking to tailor their skillsets to industry needs and employers seeking to understand the current tool preferences in the job market. It offers a tangible snapshot of the data science ecosystem, underlining the evolving landscape and the tools most in demand in the field."
   ]
  },
  {
   "cell_type": "markdown",
   "metadata": {},
   "source": [
    "### 4. Create a bar chart showing the number of postings for each of the following values of the number of years of experience required:\n",
    "1. <2\n",
    "2. 2-4\n",
    "3. 5-9\n",
    "4. 10+\n",
    "\n",
    "You will need to try a number of different approaches to extracting this information from the `description` field."
   ]
  },
  {
   "cell_type": "code",
   "execution_count": 126,
   "metadata": {},
   "outputs": [
    {
     "data": {
      "image/png": "[encoded data removed]",
      "text/plain": [
       "<Figure size 720x432 with 1 Axes>"
      ]
     },
     "metadata": {
      "needs_background": "light"
     },
     "output_type": "display_data"
    }
   ],
   "source": [
    "# Define regular expressions to match years of experience\n",
    "experience_patterns = [\n",
    "    r'(\\d+)\\s?year[s]? of experience',\n",
    "    r'(\\d+)\\s?[-–]\\s?(\\d+)\\s?year[s]? of experience'\n",
    "]\n",
    "\n",
    "# Initialize counters for each category\n",
    "experience_counts = {\n",
    "    '<2': 0,\n",
    "    '2-4': 0,\n",
    "    '5-9': 0,\n",
    "    '10+': 0\n",
    "}\n",
    "\n",
    "# Iterate through job descriptions\n",
    "for description in jobs['description']:\n",
    "    description = description.lower()\n",
    "    for pattern in experience_patterns:\n",
    "        matches = re.findall(pattern, description)\n",
    "        for match in matches:\n",
    "            # Check if we have valid groups\n",
    "            if len(match) > 0:\n",
    "                start_year = int(match[0])\n",
    "                end_year = int(match[1]) if len(match) > 1 and match[1] else start_year\n",
    "\n",
    "                # Categorize the years of experience\n",
    "                if end_year < 2:\n",
    "                    experience_counts['<2'] += 1\n",
    "                elif end_year >= 2 and end_year <= 4:\n",
    "                    experience_counts['2-4'] += 1\n",
    "                elif end_year >= 5 and end_year <= 9:\n",
    "                    experience_counts['5-9'] += 1\n",
    "                else:\n",
    "                    experience_counts['10+'] += 1\n",
    "\n",
    "# Create a DataFrame from the experience counts\n",
    "experience_df = pd.DataFrame(list(experience_counts.items()), columns=['Experience Range', 'Count'])\n",
    "\n",
    "# Create a bar chart to visualize the counts\n",
    "plt.figure(figsize=(10, 6))\n",
    "sns.barplot(x='Experience Range', y='Count', data=experience_df, palette=\"viridis\")\n",
    "plt.title('Number of Postings by Years of Experience Required')\n",
    "plt.xlabel('Years of Experience')\n",
    "plt.ylabel('Number of Postings')\n",
    "plt.show()\n"
   ]
  },
  {
   "cell_type": "markdown",
   "metadata": {},
   "source": [
    "### <span style=\"color:red\"> Question 4 Interpretation - </span>\n",
    "* The bar graph illustrates the distribution of years of experience required in job postings within the data science field. It reveals that the majority of job opportunities, represented by 88 postings, seek candidates with a moderate level of experience, ranging from 2 to 4 years. \n",
    "    * This suggests a robust demand for data scientists with a solid foundation in the field.<p>\n",
    "* Additionally, there are 55 job postings specifying a requirement of 5 to 9 years of experience, indicating the need for more seasoned professionals who can contribute their expertise.<p>\n",
    "* On the other hand, there are only three job postings demanding over 10 years of experience, signaling that highly experienced roles are less common but still exist, often in senior or leadership positions. Notably, there are 24 job postings suitable for those with less than 2 years of experience, showcasing opportunities for entry-level professionals to kickstart their careers in data science.  "
   ]
  },
  {
   "cell_type": "markdown",
   "metadata": {},
   "source": [
    "### 5. What are the 5 most commonly used verbs in the job descriptions?\n",
    "Is there a common theme? Are these the verbs that you would expect?"
   ]
  },
  {
   "cell_type": "code",
   "execution_count": 127,
   "metadata": {},
   "outputs": [
    {
     "name": "stdout",
     "output_type": "stream",
     "text": [
      "[('including', 1231), ('working', 913), ('required', 832), ('using', 816), ('learning', 771)]\n"
     ]
    }
   ],
   "source": [
    "# Flatten the list of words in 'description' column\n",
    "words = [word for sublist in jobs['description_no_stopwords'].tolist() for word in sublist]\n",
    "\n",
    "# Get part-of-speech tags\n",
    "tags = nltk.pos_tag(words)\n",
    "\n",
    "# Filter for verbs (VB, VBD, VBG, VBN, VBP, VBZ)\n",
    "verbs = [word for word, pos in tags if pos in ['VB', 'VBD', 'VBG', 'VBN', 'VBP', 'VBZ']]\n",
    "\n",
    "# Get top 5 most common verbs\n",
    "top_verbs = Counter(verbs).most_common(5)\n",
    "\n",
    "print(top_verbs)"
   ]
  },
  {
   "cell_type": "markdown",
   "metadata": {},
   "source": [
    "### <span style=\"color:red\"> Question 5 Interpretation - </span>\n",
    "* The common theme conveyed by the five most commonly used verbs in the job descriptions—namely, \"work,\" \"include,\" \"use,\" \"provide,\" and \"require\"—revolves around the foundational actions and expectations associated with data science positions. These verbs collectively underscore the essential tasks and qualifications commonly sought in this field.\n",
    "* These verbs align with general expectations for data science positions, reflecting the key responsibilities and qualifications that are typically sought after in the field. However, the specific emphasis may vary based on the organization, industry, and the nuances of individual job descriptions"
   ]
  },
  {
   "cell_type": "markdown",
   "metadata": {},
   "source": [
    "### 6. Based on the descriptions, what are the 3 most commonly mentioned organizations (hint: use Named Entity Recognition and look for ORG labels).\n",
    "Do these results surprise you?  Why or why not?\n"
   ]
  },
  {
   "cell_type": "code",
   "execution_count": 133,
   "metadata": {},
   "outputs": [
    {
     "name": "stdout",
     "output_type": "stream",
     "text": [
      "[('fidelitycareers.com', 3), ('news.lumen.com', 2), ('zignallabs.com', 1)]\n"
     ]
    }
   ],
   "source": [
    "# Tokenize the 'description' column\n",
    "jobs['description_tokenized'] = jobs['description'].apply(word_tokenize)\n",
    "\n",
    "# Perform part-of-speech tagging\n",
    "jobs['description_tokenized'] = jobs['description_tokenized'].apply(nltk.pos_tag)\n",
    "\n",
    "# Perform named entity recognition\n",
    "jobs['description_tokenized'] = jobs['description_tokenized'].apply(nltk.ne_chunk)\n",
    "\n",
    "# Extract organizations\n",
    "organizations = []\n",
    "for description in jobs['description_tokenized']:\n",
    "    for entity in description:\n",
    "        if isinstance(entity, nltk.tree.Tree) and entity.label() == 'ORGANIZATION':\n",
    "            organizations.append(' '.join(c[0] for c in entity.leaves()))\n",
    "\n",
    "# Get top 3 most common organizations\n",
    "top_organizations = Counter(organizations).most_common(3)\n",
    "\n",
    "print(top_organizations)"
   ]
  },
  {
   "cell_type": "markdown",
   "metadata": {},
   "source": [
    "### <span style=\"color:red\"> Question 6 Interpretation - </span>\n",
    "* The results contain some unexpected findings. The organizations mentioned, such as 'fidelitycareers.com,' 'news.lumen.com,' and 'zignallabs.com,' seem to be web addresses rather than the names of widely recognized companies typically associated with job descriptions."
   ]
  },
  {
   "cell_type": "markdown",
   "metadata": {},
   "source": [
    "### Q7: Create a boxplot showing the distribution of the Flesch Reading Ease Score using all job descriptions\n",
    "\n",
    "From https://readable.com/readability/flesch-reading-ease-flesch-kincaid-grade-level/\n",
    "\n",
    ">The Flesch Reading Ease gives a text a score between 1 and 100, with 100 being the highest readability score. Scoring between 70 to 80 is equivalent to school grade level 8. This means text should be fairly easy for the average adult to read.\n",
    ">The formula was developed in the 1940s by Rudolf Flesch. He was a consultant with the Associated Press, developing methods for improving the readability of newspapers.\n",
    ">Now, over 70 years later, the Flesch Reading Ease is used by marketers, research communicators and policy writers, amongst many others. All use it to help them assess the ease by which a piece of text will be understood and engaged with.\n",
    "\n",
    "\n",
    "\n",
    "Flesch Reading Ease score = 206.835 - (1.015 × ASL) - (84.6 × ASW)\n",
    "Here,\n",
    "\n",
    "ASL = average sentence length (number of words divided by number of sentences)\n",
    "\n",
    "ASW = average word length in syllables (number of syllables divided by number of words).\n",
    "\n",
    "Please note that you will need to figure out how to handle non-sentences like bulleted lists.\n",
    "\n",
    "Remember you are not permitted to import additional packages, so we recommend using the following starter code to count syllables.\n",
    "```\n",
    "def syllables(word):\n",
    "    count = 0\n",
    "    vowels = 'aeiouy'\n",
    "    word = word.lower().strip(\".:;?!\")\n",
    "    if word[0] in vowels:\n",
    "        count +=1\n",
    "    for index in range(1,len(word)):\n",
    "        if word[index] in vowels and word[index-1] not in vowels:\n",
    "            count +=1\n",
    "    if word.endswith('e'):\n",
    "        count -= 1\n",
    "    if word.endswith('le'):\n",
    "        count+=1\n",
    "    if count == 0:\n",
    "        count +=1\n",
    "    return count\n",
    "```\n",
    "Be sure to include an interpretation of what the boxplot tells you."
   ]
  },
  {
   "cell_type": "code",
   "execution_count": 5,
   "metadata": {},
   "outputs": [
    {
     "data": {
      "image/png": "[encoded data removed]",
      "text/plain": [
       "<Figure size 720x432 with 1 Axes>"
      ]
     },
     "metadata": {
      "needs_background": "light"
     },
     "output_type": "display_data"
    }
   ],
   "source": [
    "# Define a function to count syllables in a word\n",
    "\n",
    "def syllables(word):\n",
    "    count = 0\n",
    "    vowels = 'aeiouy'\n",
    "    word = word.lower().strip(\".:;?!\")\n",
    "    \n",
    "    if not word:\n",
    "        return count\n",
    "    \n",
    "    if word[0] in vowels:\n",
    "        count += 1\n",
    "    \n",
    "    for index in range(1, len(word)):\n",
    "        if word[index] in vowels and word[index - 1] not in vowels:\n",
    "            count += 1\n",
    "        if word.endswith('e') and index == len(word) - 1:\n",
    "            count -= 1\n",
    "        if word.endswith('le') and len(word) > 2 and index == len(word) - 2:\n",
    "            count += 1\n",
    "    \n",
    "    if count == 0:\n",
    "        count += 1\n",
    "    \n",
    "    return count\n",
    "\n",
    "# Calculate Flesch Reading Ease Score for a given description\n",
    "def flesch_reading_ease(description):\n",
    "    words = description.split()\n",
    "    num_words = len(words)\n",
    "    num_sentences = max(description.count('.') + description.count('!') + description.count('?'), 1)  # Ensure at least 1 sentence\n",
    "    syllable_count = sum(syllables(word) for word in words)\n",
    "\n",
    "    ASL = num_words / num_sentences\n",
    "    ASW = syllable_count / max(num_words, 1)  # Ensure at least 1 word\n",
    "\n",
    "    flesch_score = 206.835 - (1.015 * ASL) - (84.6 * ASW)\n",
    "    return flesch_score\n",
    "\n",
    "# Calculate Flesch Reading Ease Scores for all job descriptions\n",
    "jobs['flesch_score'] = jobs['description'].apply(flesch_reading_ease)\n",
    "\n",
    "# Create a boxplot to visualize the distribution of Flesch Reading Ease Scores\n",
    "plt.figure(figsize=(10, 6))\n",
    "sns.boxplot(y=jobs['flesch_score'], color='skyblue')\n",
    "plt.title('Distribution of Flesch Reading Ease Scores in Job Descriptions')\n",
    "plt.ylabel('Flesch Reading Ease Score')\n",
    "plt.show()"
   ]
  },
  {
   "cell_type": "code",
   "execution_count": 6,
   "metadata": {},
   "outputs": [
    {
     "data": {
      "text/plain": [
       "count    790.000000\n",
       "mean      14.573854\n",
       "std       16.255101\n",
       "min     -114.361586\n",
       "25%        7.944274\n",
       "50%       15.987440\n",
       "75%       24.033330\n",
       "max       67.116520\n",
       "Name: flesch_score, dtype: float64"
      ]
     },
     "execution_count": 6,
     "metadata": {},
     "output_type": "execute_result"
    }
   ],
   "source": [
    "jobs['flesch_score'].describe()"
   ]
  },
  {
   "cell_type": "markdown",
   "metadata": {},
   "source": [
    "### <span style=\"color:red\"> Question 7 Interpretation - </span>\n",
    "* The average Flesch Reading Ease Score for job descriptions is approximately 14.573854, indicating that they tend to be a bit challenging to read. Higher scores are better, and a score between 70 and 80 is considered easy to read.\n",
    "\n",
    "* The scores have a high degree of variability, with a standard deviation of about 16.255101. This means there's a wide range in how readable the descriptions are.\n",
    "\n",
    "* Some job descriptions have exceptionally low scores, which are outliers and may indicate complex or poorly written text.\n",
    "\n",
    "* The lowest score is -114.361586, which is unusually low and might be due to an error or very difficult text.\n",
    "\n",
    "* Half of the job descriptions have scores between approximately 7 and 24. So, about 50% of them fall within this range.\n",
    "\n",
    "* Even the highest score observed is 67.116520, but it still falls below the 'easy to read' threshold, suggesting that none of the job descriptions are very easy to understand."
   ]
  },
  {
   "cell_type": "markdown",
   "metadata": {},
   "source": [
    "# Please submit your notebook in .IPYNB and .HTML formats\n",
    "\n",
    "We **strongly** suggest running all cells from top to bottom before you submit your notebook."
   ]
  }
 ],
 "metadata": {
  "kernelspec": {
   "display_name": "Python 3 (ipykernel)",
   "language": "python",
   "name": "python3"
  },
  "language_info": {
   "codemirror_mode": {
    "name": "ipython",
    "version": 3
   },
   "file_extension": ".py",
   "mimetype": "text/x-python",
   "name": "python",
   "nbconvert_exporter": "python",
   "pygments_lexer": "ipython3",
   "version": "3.9.2"
  },
  "vscode": {
   "interpreter": {
    "hash": "90fd63f6819c340b438e5c293ddfb31e39be622c688d56bb62c76ae0c0566a54"
   }
  }
 },
 "nbformat": 4,
 "nbformat_minor": 4
}
