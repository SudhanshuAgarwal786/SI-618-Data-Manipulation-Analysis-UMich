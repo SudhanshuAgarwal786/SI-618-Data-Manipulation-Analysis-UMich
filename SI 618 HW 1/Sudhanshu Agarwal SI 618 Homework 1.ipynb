{
 "cells": [
  {
   "cell_type": "markdown",
   "metadata": {
    "colab_type": "text",
    "id": "UGqk3SzXsMR3"
   },
   "source": [
    "# SI 618 - Homework #1: Data Manipulation\n",
    "\n",
    "Version 2023.09.06.01.CT (Fall 2023)"
   ]
  },
  {
   "cell_type": "markdown",
   "metadata": {
    "colab_type": "text",
    "id": "Crxe7LeXJ9yn"
   },
   "source": [
    "## Background"
   ]
  },
  {
   "cell_type": "markdown",
   "metadata": {
    "colab_type": "text",
    "id": "1IaTA3GNJ9yo"
   },
   "source": [
    "This homework assignment focuses on the analysis of biometric data and exercise performance."
   ]
  },
  {
   "cell_type": "markdown",
   "metadata": {
    "colab_type": "text",
    "id": "jae-nANHJ9yp"
   },
   "source": [
    "Your main task in this assignment is to explore the data *using the data\n",
    "manipulation methods we covered in class*, as well as those in the assigned readings and video resources.  You may need to consult pandas documentation, Stack Overflow, Copilot, or other online resources.  \n"
   ]
  },
  {
   "cell_type": "markdown",
   "metadata": {
    "colab_type": "text",
    "id": "pbqbtPreaCjs"
   },
   "source": [
    "A total of 100 points is available in this homework assignment, broken down as shown beside each question and in the accompanying rubric in Canvas.  Please note that to receive full points, code should conform to  [PEP 8](https://www.python.org/dev/peps/pep-0008/) guidelines, and written responses should be grammatically correct, free of spelling errors, and generally follow the [Strunk & White](https://drive.google.com/file/d/1L0P7xJwjUGBvyb49mL3dw1Bt7hzRTiTl/view) guidelines.  You should review those guidelines before proceding with the assignment."
   ]
  },
  {
   "cell_type": "markdown",
   "metadata": {
    "colab_type": "text",
    "id": "Pr9WBUQyZY4V",
    "tags": []
   },
   "source": [
    "## Download the data from: \n",
    "https://www.kaggle.com/kukuroo3/body-performance-data\n"
   ]
  },
  {
   "cell_type": "code",
   "execution_count": 59,
   "metadata": {},
   "outputs": [],
   "source": [
    "MY_UNIQNAME = 'sudhagar' # please fill in your uniqname"
   ]
  },
  {
   "cell_type": "markdown",
   "metadata": {
    "colab_type": "text",
    "id": "8EV1PilWtl0Z"
   },
   "source": [
    "## Answer the following questions.\n",
    "Points for each question are shown below.\n",
    "\n",
    "For each question, you should\n",
    "1. Write code using Python and pandas that can help you answer the following questions, and\n",
    "2. Explain your answers in plain English. You should use complete sentences that would be understood by an educated professional who is not necessarily a data scientist (like a product manager).  When we ask for an explanation of your answer, we are interested in your interpretation of the analyses that you produce.  With the exception of Question 1a, we are not interested in a description of the steps you took to arrive at your answer."
   ]
  },
  {
   "cell_type": "markdown",
   "metadata": {
    "colab_type": "text",
    "id": "PfjXDtHoabcS",
    "tags": []
   },
   "source": [
    "### <span style=\"color:magenta\"> Q1: 8 pt(total):</span>\n",
    "#### Q1a (3pt): Write out the steps you need to follow in order to describe the dataset, in terms of size, number of rows, and number of columns.\n",
    "\n"
   ]
  },
  {
   "cell_type": "markdown",
   "metadata": {},
   "source": [
    "Replace this with your answer.  Remember that markdown supports bulleted lists:\n",
    "* this\n",
    "* that\n",
    "* the other thing\n",
    "\n",
    "and numbered lists:\n",
    "1. one\n",
    "1. two\n",
    "1. three"
   ]
  },
  {
   "cell_type": "markdown",
   "metadata": {},
   "source": [
    "#### Q1b (5pt): Write and execute the code that will do the steps you identified in Part (a) of this question."
   ]
  },
  {
   "cell_type": "code",
   "execution_count": 60,
   "metadata": {},
   "outputs": [
    {
     "name": "stdout",
     "output_type": "stream",
     "text": [
      "The number of rows of the dataset is: 13393\n",
      "The number of columns of the dataset is: 12\n",
      "The shape of the dataset is: (13393, 12)\n"
     ]
    },
    {
     "data": {
      "text/html": [
       "<div>\n",
       "<style scoped>\n",
       "    .dataframe tbody tr th:only-of-type {\n",
       "        vertical-align: middle;\n",
       "    }\n",
       "\n",
       "    .dataframe tbody tr th {\n",
       "        vertical-align: top;\n",
       "    }\n",
       "\n",
       "    .dataframe thead th {\n",
       "        text-align: right;\n",
       "    }\n",
       "</style>\n",
       "<table border=\"1\" class=\"dataframe\">\n",
       "  <thead>\n",
       "    <tr style=\"text-align: right;\">\n",
       "      <th></th>\n",
       "      <th>age</th>\n",
       "      <th>height_cm</th>\n",
       "      <th>weight_kg</th>\n",
       "      <th>body fat_%</th>\n",
       "      <th>diastolic</th>\n",
       "      <th>systolic</th>\n",
       "      <th>gripForce</th>\n",
       "      <th>sit and bend forward_cm</th>\n",
       "      <th>sit-ups counts</th>\n",
       "      <th>broad jump_cm</th>\n",
       "    </tr>\n",
       "  </thead>\n",
       "  <tbody>\n",
       "    <tr>\n",
       "      <th>count</th>\n",
       "      <td>13393.000000</td>\n",
       "      <td>13393.000000</td>\n",
       "      <td>13393.000000</td>\n",
       "      <td>13393.000000</td>\n",
       "      <td>13393.000000</td>\n",
       "      <td>13393.000000</td>\n",
       "      <td>13393.000000</td>\n",
       "      <td>13393.000000</td>\n",
       "      <td>13393.000000</td>\n",
       "      <td>13393.000000</td>\n",
       "    </tr>\n",
       "    <tr>\n",
       "      <th>mean</th>\n",
       "      <td>36.775106</td>\n",
       "      <td>168.559807</td>\n",
       "      <td>67.447316</td>\n",
       "      <td>23.240165</td>\n",
       "      <td>78.796842</td>\n",
       "      <td>130.234817</td>\n",
       "      <td>36.963877</td>\n",
       "      <td>15.209268</td>\n",
       "      <td>39.771224</td>\n",
       "      <td>190.129627</td>\n",
       "    </tr>\n",
       "    <tr>\n",
       "      <th>std</th>\n",
       "      <td>13.625639</td>\n",
       "      <td>8.426583</td>\n",
       "      <td>11.949666</td>\n",
       "      <td>7.256844</td>\n",
       "      <td>10.742033</td>\n",
       "      <td>14.713954</td>\n",
       "      <td>10.624864</td>\n",
       "      <td>8.456677</td>\n",
       "      <td>14.276698</td>\n",
       "      <td>39.868000</td>\n",
       "    </tr>\n",
       "    <tr>\n",
       "      <th>min</th>\n",
       "      <td>21.000000</td>\n",
       "      <td>125.000000</td>\n",
       "      <td>26.300000</td>\n",
       "      <td>3.000000</td>\n",
       "      <td>0.000000</td>\n",
       "      <td>0.000000</td>\n",
       "      <td>0.000000</td>\n",
       "      <td>-25.000000</td>\n",
       "      <td>0.000000</td>\n",
       "      <td>0.000000</td>\n",
       "    </tr>\n",
       "    <tr>\n",
       "      <th>25%</th>\n",
       "      <td>25.000000</td>\n",
       "      <td>162.400000</td>\n",
       "      <td>58.200000</td>\n",
       "      <td>18.000000</td>\n",
       "      <td>71.000000</td>\n",
       "      <td>120.000000</td>\n",
       "      <td>27.500000</td>\n",
       "      <td>10.900000</td>\n",
       "      <td>30.000000</td>\n",
       "      <td>162.000000</td>\n",
       "    </tr>\n",
       "    <tr>\n",
       "      <th>50%</th>\n",
       "      <td>32.000000</td>\n",
       "      <td>169.200000</td>\n",
       "      <td>67.400000</td>\n",
       "      <td>22.800000</td>\n",
       "      <td>79.000000</td>\n",
       "      <td>130.000000</td>\n",
       "      <td>37.900000</td>\n",
       "      <td>16.200000</td>\n",
       "      <td>41.000000</td>\n",
       "      <td>193.000000</td>\n",
       "    </tr>\n",
       "    <tr>\n",
       "      <th>75%</th>\n",
       "      <td>48.000000</td>\n",
       "      <td>174.800000</td>\n",
       "      <td>75.300000</td>\n",
       "      <td>28.000000</td>\n",
       "      <td>86.000000</td>\n",
       "      <td>141.000000</td>\n",
       "      <td>45.200000</td>\n",
       "      <td>20.700000</td>\n",
       "      <td>50.000000</td>\n",
       "      <td>221.000000</td>\n",
       "    </tr>\n",
       "    <tr>\n",
       "      <th>max</th>\n",
       "      <td>64.000000</td>\n",
       "      <td>193.800000</td>\n",
       "      <td>138.100000</td>\n",
       "      <td>78.400000</td>\n",
       "      <td>156.200000</td>\n",
       "      <td>201.000000</td>\n",
       "      <td>70.500000</td>\n",
       "      <td>213.000000</td>\n",
       "      <td>80.000000</td>\n",
       "      <td>303.000000</td>\n",
       "    </tr>\n",
       "  </tbody>\n",
       "</table>\n",
       "</div>"
      ],
      "text/plain": [
       "                age     height_cm     weight_kg    body fat_%     diastolic  \\\n",
       "count  13393.000000  13393.000000  13393.000000  13393.000000  13393.000000   \n",
       "mean      36.775106    168.559807     67.447316     23.240165     78.796842   \n",
       "std       13.625639      8.426583     11.949666      7.256844     10.742033   \n",
       "min       21.000000    125.000000     26.300000      3.000000      0.000000   \n",
       "25%       25.000000    162.400000     58.200000     18.000000     71.000000   \n",
       "50%       32.000000    169.200000     67.400000     22.800000     79.000000   \n",
       "75%       48.000000    174.800000     75.300000     28.000000     86.000000   \n",
       "max       64.000000    193.800000    138.100000     78.400000    156.200000   \n",
       "\n",
       "           systolic     gripForce  sit and bend forward_cm  sit-ups counts  \\\n",
       "count  13393.000000  13393.000000             13393.000000    13393.000000   \n",
       "mean     130.234817     36.963877                15.209268       39.771224   \n",
       "std       14.713954     10.624864                 8.456677       14.276698   \n",
       "min        0.000000      0.000000               -25.000000        0.000000   \n",
       "25%      120.000000     27.500000                10.900000       30.000000   \n",
       "50%      130.000000     37.900000                16.200000       41.000000   \n",
       "75%      141.000000     45.200000                20.700000       50.000000   \n",
       "max      201.000000     70.500000               213.000000       80.000000   \n",
       "\n",
       "       broad jump_cm  \n",
       "count   13393.000000  \n",
       "mean      190.129627  \n",
       "std        39.868000  \n",
       "min         0.000000  \n",
       "25%       162.000000  \n",
       "50%       193.000000  \n",
       "75%       221.000000  \n",
       "max       303.000000  "
      ]
     },
     "execution_count": 60,
     "metadata": {},
     "output_type": "execute_result"
    }
   ],
   "source": [
    "import csv\n",
    "import pandas as pd\n",
    "import numpy as np\n",
    "import matplotlib.pyplot as plt\n",
    "\n",
    "# Define the filename\n",
    "filename = 'C:/Users/hp/Downloads/SI 618/SI 618 HW 1/SI 618 HW 1 Dataset.csv'\n",
    "\n",
    "# Read the CSV file into a DataFrame\n",
    "df = pd.read_csv(filename)\n",
    "\n",
    "# Print the number of rows and columns in the dataset\n",
    "print(\"The number of rows of the dataset is:\", len(df))\n",
    "print(\"The number of columns of the dataset is:\", len(df.columns))\n",
    "print(\"The shape of the dataset is:\", df.shape)\n",
    "\n",
    "# Display summary statistics of the dataset\n",
    "df.describe()"
   ]
  },
  {
   "cell_type": "markdown",
   "metadata": {},
   "source": [
    "### Question 1 Explanation -\n",
    "\n",
    "* Print Information: The code prints out some basic information about the dataset:  \n",
    "    * The number of rows in the dataset using len(df).\n",
    "    * The number of columns in the dataset using len(df.columns).\n",
    "    * The shape of the dataset (rows, columns) using df.shape.<p>\n",
    "* Summary Statistics: Finally, the code calls df.describe(), which generates and displays summary statistics of the dataset. This includes measures like count, mean, standard deviation, minimum, and maximum values for each numeric column in the DataFrame. These statistics provide an initial insight into the data's distribution."
   ]
  },
  {
   "cell_type": "markdown",
   "metadata": {},
   "source": [
    "### <span style=\"color:magenta\">Q2: 5 pt:</span>\n",
    "Without using pd.DataFrame.describe(), report the median age, height, and weight for people in the data. Round your answer to the nearest whole number.  Be sure to indicate units for each variable in your write-up."
   ]
  },
  {
   "cell_type": "code",
   "execution_count": 61,
   "metadata": {},
   "outputs": [
    {
     "name": "stdout",
     "output_type": "stream",
     "text": [
      "Median Age: 32 years\n",
      "Median Height: 169 cm\n",
      "Median Weight: 67 kg\n"
     ]
    }
   ],
   "source": [
    "median_age = df['age'].median()\n",
    "median_height = df['height_cm'].median()\n",
    "median_weight = df['weight_kg'].median()\n",
    "\n",
    "# Round the results to the nearest whole number\n",
    "rounded_median_age = round(median_age)\n",
    "rounded_median_height = round(median_height)\n",
    "rounded_median_weight = round(median_weight)\n",
    "\n",
    "# Print the results with units\n",
    "print(f\"Median Age: {rounded_median_age} years\")\n",
    "print(f\"Median Height: {rounded_median_height} cm\")\n",
    "print(f\"Median Weight: {rounded_median_weight} kg\")"
   ]
  },
  {
   "cell_type": "markdown",
   "metadata": {},
   "source": [
    "### Question 2 Explanation -\n",
    "\n",
    "* Calculate Median Values:\n",
    "    * median_age = df['age'].median(): This line calculates the median age from the 'age' column of the DataFrame df using the median() function from Pandas. It computes the middle value when the age values are sorted.\n",
    "    * median_height = df['height_cm'].median(): Similarly, this line calculates the median height from the 'height_cm' column.\n",
    "    * median_weight = df['weight_kg'].median(): Likewise, this line calculates the median weight from the 'weight_kg' column.<p>\n",
    "\n",
    "* Round Median Values:\n",
    "    * rounded_median_age = round(median_age): Here, the round() function is used to round the median_age value to the nearest whole number, and the result is stored in rounded_median_age.\n",
    "    * rounded_median_height = round(median_height): Similarly, the median height is rounded and stored in rounded_median_height.\n",
    "    * rounded_median_weight = round(median_weight): The median weight is rounded and stored in rounded_median_weight.<p>\n",
    "\n",
    "* Print Results with Units:\n",
    "    * print(f\"Median Age: {rounded_median_age} years\"): This line prints the rounded median age with the unit \"years.\"\n",
    "    * print(f\"Median Height: {rounded_median_height} cm\"): It prints the rounded median height with the unit \"cm.\"\n",
    "    * print(f\"Median Weight: {rounded_median_weight} kg\"): Similarly, it prints the rounded median weight with the unit \"kg.\""
   ]
  },
  {
   "cell_type": "markdown",
   "metadata": {},
   "source": [
    "### <span style=\"color:magenta\">Q3: 5 pt: </span>\n",
    "Look for any anomalous data points.  For example, are there cases where diastolic blood pressure is higher than systolic blood pressure (which is physiologically impossible)?  Do you notice any other anomalies?"
   ]
  },
  {
   "cell_type": "code",
   "execution_count": 62,
   "metadata": {},
   "outputs": [
    {
     "data": {
      "text/html": [
       "<div>\n",
       "<style scoped>\n",
       "    .dataframe tbody tr th:only-of-type {\n",
       "        vertical-align: middle;\n",
       "    }\n",
       "\n",
       "    .dataframe tbody tr th {\n",
       "        vertical-align: top;\n",
       "    }\n",
       "\n",
       "    .dataframe thead th {\n",
       "        text-align: right;\n",
       "    }\n",
       "</style>\n",
       "<table border=\"1\" class=\"dataframe\">\n",
       "  <thead>\n",
       "    <tr style=\"text-align: right;\">\n",
       "      <th></th>\n",
       "      <th>age</th>\n",
       "      <th>height_cm</th>\n",
       "      <th>weight_kg</th>\n",
       "      <th>body fat_%</th>\n",
       "      <th>diastolic</th>\n",
       "      <th>systolic</th>\n",
       "      <th>gripForce</th>\n",
       "      <th>sit and bend forward_cm</th>\n",
       "      <th>sit-ups counts</th>\n",
       "      <th>broad jump_cm</th>\n",
       "    </tr>\n",
       "  </thead>\n",
       "  <tbody>\n",
       "    <tr>\n",
       "      <th>count</th>\n",
       "      <td>13393.000000</td>\n",
       "      <td>13393.000000</td>\n",
       "      <td>13393.000000</td>\n",
       "      <td>13393.000000</td>\n",
       "      <td>13393.000000</td>\n",
       "      <td>13393.000000</td>\n",
       "      <td>13393.000000</td>\n",
       "      <td>13393.000000</td>\n",
       "      <td>13393.000000</td>\n",
       "      <td>13393.000000</td>\n",
       "    </tr>\n",
       "    <tr>\n",
       "      <th>mean</th>\n",
       "      <td>36.775106</td>\n",
       "      <td>168.559807</td>\n",
       "      <td>67.447316</td>\n",
       "      <td>23.240165</td>\n",
       "      <td>78.796842</td>\n",
       "      <td>130.234817</td>\n",
       "      <td>36.963877</td>\n",
       "      <td>15.209268</td>\n",
       "      <td>39.771224</td>\n",
       "      <td>190.129627</td>\n",
       "    </tr>\n",
       "    <tr>\n",
       "      <th>std</th>\n",
       "      <td>13.625639</td>\n",
       "      <td>8.426583</td>\n",
       "      <td>11.949666</td>\n",
       "      <td>7.256844</td>\n",
       "      <td>10.742033</td>\n",
       "      <td>14.713954</td>\n",
       "      <td>10.624864</td>\n",
       "      <td>8.456677</td>\n",
       "      <td>14.276698</td>\n",
       "      <td>39.868000</td>\n",
       "    </tr>\n",
       "    <tr>\n",
       "      <th>min</th>\n",
       "      <td>21.000000</td>\n",
       "      <td>125.000000</td>\n",
       "      <td>26.300000</td>\n",
       "      <td>3.000000</td>\n",
       "      <td>0.000000</td>\n",
       "      <td>0.000000</td>\n",
       "      <td>0.000000</td>\n",
       "      <td>-25.000000</td>\n",
       "      <td>0.000000</td>\n",
       "      <td>0.000000</td>\n",
       "    </tr>\n",
       "    <tr>\n",
       "      <th>25%</th>\n",
       "      <td>25.000000</td>\n",
       "      <td>162.400000</td>\n",
       "      <td>58.200000</td>\n",
       "      <td>18.000000</td>\n",
       "      <td>71.000000</td>\n",
       "      <td>120.000000</td>\n",
       "      <td>27.500000</td>\n",
       "      <td>10.900000</td>\n",
       "      <td>30.000000</td>\n",
       "      <td>162.000000</td>\n",
       "    </tr>\n",
       "    <tr>\n",
       "      <th>50%</th>\n",
       "      <td>32.000000</td>\n",
       "      <td>169.200000</td>\n",
       "      <td>67.400000</td>\n",
       "      <td>22.800000</td>\n",
       "      <td>79.000000</td>\n",
       "      <td>130.000000</td>\n",
       "      <td>37.900000</td>\n",
       "      <td>16.200000</td>\n",
       "      <td>41.000000</td>\n",
       "      <td>193.000000</td>\n",
       "    </tr>\n",
       "    <tr>\n",
       "      <th>75%</th>\n",
       "      <td>48.000000</td>\n",
       "      <td>174.800000</td>\n",
       "      <td>75.300000</td>\n",
       "      <td>28.000000</td>\n",
       "      <td>86.000000</td>\n",
       "      <td>141.000000</td>\n",
       "      <td>45.200000</td>\n",
       "      <td>20.700000</td>\n",
       "      <td>50.000000</td>\n",
       "      <td>221.000000</td>\n",
       "    </tr>\n",
       "    <tr>\n",
       "      <th>max</th>\n",
       "      <td>64.000000</td>\n",
       "      <td>193.800000</td>\n",
       "      <td>138.100000</td>\n",
       "      <td>78.400000</td>\n",
       "      <td>156.200000</td>\n",
       "      <td>201.000000</td>\n",
       "      <td>70.500000</td>\n",
       "      <td>213.000000</td>\n",
       "      <td>80.000000</td>\n",
       "      <td>303.000000</td>\n",
       "    </tr>\n",
       "  </tbody>\n",
       "</table>\n",
       "</div>"
      ],
      "text/plain": [
       "                age     height_cm     weight_kg    body fat_%     diastolic  \\\n",
       "count  13393.000000  13393.000000  13393.000000  13393.000000  13393.000000   \n",
       "mean      36.775106    168.559807     67.447316     23.240165     78.796842   \n",
       "std       13.625639      8.426583     11.949666      7.256844     10.742033   \n",
       "min       21.000000    125.000000     26.300000      3.000000      0.000000   \n",
       "25%       25.000000    162.400000     58.200000     18.000000     71.000000   \n",
       "50%       32.000000    169.200000     67.400000     22.800000     79.000000   \n",
       "75%       48.000000    174.800000     75.300000     28.000000     86.000000   \n",
       "max       64.000000    193.800000    138.100000     78.400000    156.200000   \n",
       "\n",
       "           systolic     gripForce  sit and bend forward_cm  sit-ups counts  \\\n",
       "count  13393.000000  13393.000000             13393.000000    13393.000000   \n",
       "mean     130.234817     36.963877                15.209268       39.771224   \n",
       "std       14.713954     10.624864                 8.456677       14.276698   \n",
       "min        0.000000      0.000000               -25.000000        0.000000   \n",
       "25%      120.000000     27.500000                10.900000       30.000000   \n",
       "50%      130.000000     37.900000                16.200000       41.000000   \n",
       "75%      141.000000     45.200000                20.700000       50.000000   \n",
       "max      201.000000     70.500000               213.000000       80.000000   \n",
       "\n",
       "       broad jump_cm  \n",
       "count   13393.000000  \n",
       "mean      190.129627  \n",
       "std        39.868000  \n",
       "min         0.000000  \n",
       "25%       162.000000  \n",
       "50%       193.000000  \n",
       "75%       221.000000  \n",
       "max       303.000000  "
      ]
     },
     "execution_count": 62,
     "metadata": {},
     "output_type": "execute_result"
    }
   ],
   "source": [
    "df.describe()"
   ]
  },
  {
   "cell_type": "code",
   "execution_count": 63,
   "metadata": {},
   "outputs": [
    {
     "name": "stdout",
     "output_type": "stream",
     "text": [
      "Cases with Diastolic BP > Systolic BP:\n",
      "        age gender  height_cm  weight_kg  body fat_%  diastolic  systolic  \\\n",
      "7495   30.0      F      156.2      52.80        28.2      156.2     104.0   \n",
      "7597   30.0      M      166.6      66.08        14.4       67.0      14.0   \n",
      "8217   31.0      M      176.7      80.32        20.8       46.2      43.9   \n",
      "12949  24.0      M      171.0      78.70        20.0       99.0      95.0   \n",
      "\n",
      "       gripForce  sit and bend forward_cm  sit-ups counts  broad jump_cm class  \n",
      "7495        21.7                     27.2            43.0          162.0     C  \n",
      "7597        53.8                     17.2            57.0          221.0     A  \n",
      "8217        43.9                     17.2            57.0          221.0     B  \n",
      "12949       46.5                     12.8            50.0          197.0     D  \n"
     ]
    }
   ],
   "source": [
    "# Check for diastolic blood pressure higher than systolic blood pressure\n",
    "anomalous_bp = df[df['diastolic'] > df['systolic']]\n",
    "\n",
    "# Display the anomalous data points\n",
    "print(\"Cases with Diastolic BP > Systolic BP:\")\n",
    "print(anomalous_bp)"
   ]
  },
  {
   "cell_type": "markdown",
   "metadata": {},
   "source": [
    "### Question 3 Explanation -\n",
    "\n",
    "* Anomalies found in the dataset -\n",
    "    * There are several cases where the diastolic bp is higher than the systolic bp, such cases are mentioned above as output\n",
    "    * Observing the description of the dataset by df.describe() we can see that the minimum sit and bend forward distance is -25 cm, which is not possible\n",
    "    * The minimum is age is 21 and still the minimum weight is 26 kg, which is also not possible.\n",
    "    * The minimum diastolic and systolic bp is 0, which can be due to a few outliers in the dataset"
   ]
  },
  {
   "cell_type": "markdown",
   "metadata": {},
   "source": [
    "### <span style=\"color:magenta\">Q4: 11 pt:</span>\n",
    "Generate histogram plots for the age, weight, and height for that allow you to visualize differences between gender M and gender F participants. Describe the plots and point out any interesting aspects. You are not permitted to use Seaborn, Bokeh, or Plotly to create your visualizations (i.e. you can only use the matplotlib-pandas integrations)."
   ]
  },
  {
   "cell_type": "code",
   "execution_count": 64,
   "metadata": {},
   "outputs": [
    {
     "data": {
      "image/png": "[encoded data removed]",
      "text/plain": [
       "<Figure size 864x864 with 3 Axes>"
      ]
     },
     "metadata": {
      "needs_background": "light"
     },
     "output_type": "display_data"
    }
   ],
   "source": [
    "# Separate the data into male and female participants\n",
    "male_data = df[df['gender'] == 'M']\n",
    "female_data = df[df['gender'] == 'F']\n",
    "\n",
    "# Create subplots for age, weight, and height histograms\n",
    "fig, axs = plt.subplots(3, 1, figsize=(12, 12))\n",
    "\n",
    "# Age Histograms\n",
    "axs[0].hist(male_data['age'], bins=20, color='blue', alpha=0.5, label='Male')\n",
    "axs[0].hist(female_data['age'], bins=20, color='pink', alpha=0.5, label='Female')\n",
    "axs[0].set_title('Age Histogram')\n",
    "axs[0].set_xlabel('Age')\n",
    "axs[0].set_ylabel('Frequency')\n",
    "axs[0].legend()\n",
    "\n",
    "# Weight Histograms\n",
    "axs[1].hist(male_data['weight_kg'], bins=20, color='blue', alpha=0.5, label='Male')\n",
    "axs[1].hist(female_data['weight_kg'], bins=20, color='pink', alpha=0.5, label='Female')\n",
    "axs[1].set_title('Weight Histogram')\n",
    "axs[1].set_xlabel('Weight (kg)')\n",
    "axs[1].set_ylabel('Frequency')\n",
    "axs[1].legend()\n",
    "\n",
    "# Height Histograms\n",
    "axs[2].hist(male_data['height_cm'], bins=20, color='blue', alpha=0.5, label='Male')\n",
    "axs[2].hist(female_data['height_cm'], bins=20, color='pink', alpha=0.5, label='Female')\n",
    "axs[2].set_title('Height Histogram')\n",
    "axs[2].set_xlabel('Height (cm)')\n",
    "axs[2].set_ylabel('Frequency')\n",
    "axs[2].legend()\n",
    "\n",
    "# Adjust layout\n",
    "plt.tight_layout()\n",
    "\n",
    "# Show the plots\n",
    "plt.show()"
   ]
  },
  {
   "cell_type": "markdown",
   "metadata": {},
   "source": [
    "### Question 4 Explanation -\n",
    "\n",
    "<p>The code generates histogram plots for the age, weight, and height of participants, allowing visualization of differences between genders (Male and Female). Below is an interpretation of the plots :</p>\n",
    "\n",
    "* Interpretation:\n",
    "    * The code effectively creates three subplots in a vertical arrangement, allowing us to compare the distributions of age, weight, and height for male and female participants.\n",
    "    * The use of different colors (blue for male, pink for female) and transparency (alpha) makes it easier to distinguish the two gender groups within each histogram.\n",
    "    * For example - In the Age histogram we can observe that the frequency of men for a particular age is greater than women of that age\n",
    "    * We can visually assess the central tendencies, spreads, and shapes of these distributions. For example, you can check if there are significant differences in the age, weight, or height distributions between males and females.\n",
    "    * The legends in each subplot help identify which color corresponds to which gender group.\n",
    "\n",
    "Overall, this code provides a visual exploration of the data, making it easier to spot any interesting patterns or differences in the variables of interest between male and female participants.\n",
    "\n"
   ]
  },
  {
   "cell_type": "markdown",
   "metadata": {
    "colab_type": "text",
    "id": "0u5VM5ksbCTm"
   },
   "source": [
    "### <span style=\"color:magenta\">Q5: 16 pt:</span>\n",
    "[Blood pressure](https://www.health.harvard.edu/heart-health/reading-the-new-blood-pressure-guidelines) is reported as two numbers: diastolic (the lower number) and systolic (the higher number).  So, for example, if a person has a diastolic measurement of 80 and a systolic measurement of 120, the person's blood pressure would be reported as 120/80.\n",
    "\n",
    "Blood pressure measurements fall into several categories:\n",
    "\n",
    "Normal blood pressure. Your blood pressure is normal if it's below 120/80 mm Hg.\n",
    "\n",
    "Elevated blood pressure. Elevated blood pressure is a systolic pressure ranging from 120 to 129 mm Hg and a diastolic pressure below (not above) 80 mm Hg. Elevated blood pressure may also be called prehypertension.\n",
    "\n",
    "Stage 1 hypertension. Stage 1 hypertension is a systolic pressure ranging from 130 to 139 mm Hg or a diastolic pressure ranging from 80 to 89 mm Hg.\n",
    "\n",
    "Stage 2 hypertension. More-severe hypertension, stage 2 hypertension is a systolic pressure of 140 mm Hg or higher or a diastolic pressure of 90 mm Hg or higher.\n",
    "\n",
    "Hypertensive crisis. A blood pressure measurement higher than 180/120 mm Hg is an emergency situation that requires urgent medical care.\n",
    "\n",
    "a) Report the number of people in each of those categories.\n",
    "\n",
    "b) The guidelines were recently changed: prior to 2017, the guidelines set the threshold at 140/90 mm Hg for people younger than age 65 and 150/80 mm Hg for those ages 65 and older to be diagnosed with hypertension. Create and implement analyses that allow you to demonstrate how the change in guidelines affects the categorization of people into the different categories.\n",
    "Make reasonable assumptions (and state them) about whether to use diastolic, systolic, both, or either of those measures when implementing your analysis.  Note that the new guidelines offer more categories than the older guidelines."
   ]
  },
  {
   "cell_type": "code",
   "execution_count": 65,
   "metadata": {},
   "outputs": [
    {
     "name": "stdout",
     "output_type": "stream",
     "text": [
      "Number of People in Each Category (New Guidelines):\n",
      "Stage 1 hypertension       5936\n",
      "Normal                     2898\n",
      "Stage 2 hypertension       2469\n",
      "Elevated blood pressure    2090\n",
      "Name: New_Guidelines, dtype: int64\n",
      "\n",
      "Number of People in Each Category (Old Guidelines):\n",
      "Normal                  9630\n",
      "Stage 1 hypertension    2250\n",
      "Stage 2 hypertension    1513\n",
      "Name: Old_Guidelines, dtype: int64\n"
     ]
    },
    {
     "data": {
      "image/png": "[encoded data removed]",
      "text/plain": [
       "<Figure size 864x360 with 2 Axes>"
      ]
     },
     "metadata": {},
     "output_type": "display_data"
    }
   ],
   "source": [
    "\n",
    "# Define functions to categorize blood pressure based on guidelines\n",
    "\n",
    "def categorize_old_guidelines(systolic):\n",
    "    if systolic < 140:\n",
    "        return 'Normal'\n",
    "    elif 140 <= systolic < 150:\n",
    "        return 'Stage 1 hypertension'\n",
    "    else:\n",
    "        return 'Stage 2 hypertension'\n",
    "\n",
    "def categorize_new_guidelines(systolic, diastolic):\n",
    "    if systolic < 120 and diastolic < 80:\n",
    "        return 'Normal'\n",
    "    elif 120 <= systolic < 130 and diastolic < 80:\n",
    "        return 'Elevated blood pressure'\n",
    "    elif 130 <= systolic < 140 or 80 <= diastolic < 90:\n",
    "        return 'Stage 1 hypertension'\n",
    "    else:\n",
    "        return 'Stage 2 hypertension'\n",
    "\n",
    "# Apply categorization functions to the DataFrame\n",
    "df['Old_Guidelines'] = df['systolic'].apply(categorize_old_guidelines)\n",
    "df['New_Guidelines'] = df.apply(lambda row: categorize_new_guidelines(row['systolic'], row['diastolic']), axis=1)\n",
    "\n",
    "# Count the number of people in each category for both old and new guidelines\n",
    "old_guidelines_counts = df['Old_Guidelines'].value_counts()\n",
    "new_guidelines_counts = df['New_Guidelines'].value_counts()\n",
    "\n",
    "# Print the results\n",
    "print(\"Number of People in Each Category (New Guidelines):\")\n",
    "print(new_guidelines_counts)\n",
    "\n",
    "print(\"\\nNumber of People in Each Category (Old Guidelines):\")\n",
    "print(old_guidelines_counts)\n",
    "\n",
    "# Plot the results\n",
    "fig, (ax1, ax2) = plt.subplots(1, 2, figsize=(12, 5))\n",
    "fig.suptitle('Blood Pressure Categorization')\n",
    "\n",
    "# Set the background color of the figure to white\n",
    "fig.patch.set_facecolor('white')\n",
    "\n",
    "# Plot for old guidelines\n",
    "ax1.pie(old_guidelines_counts, labels=old_guidelines_counts.index, autopct='%1.1f%%', startangle=90)\n",
    "ax1.set_title('Old Guidelines')\n",
    "\n",
    "# Plot for new guidelines\n",
    "ax2.pie(new_guidelines_counts, labels=new_guidelines_counts.index, autopct='%1.1f%%', startangle=90)\n",
    "ax2.set_title('New Guidelines')\n",
    "\n",
    "plt.show()"
   ]
  },
  {
   "cell_type": "markdown",
   "metadata": {
    "colab_type": "text",
    "id": "CCuxztg3uYPQ"
   },
   "source": [
    "### Question 5 Explanation -\n",
    "\n",
    "   We have used Pandas to categorize individuals based on their blood pressure measurements and compare the results under the old and new guidelines. We will consider both systolic and diastolic measurements and include the different categories mentioned in the question.\n",
    "\n",
    "* Assumptions -\n",
    "    * For the new guidelines (post-2017), we will consider both systolic and diastolic measurements separately.\n",
    "    * For the old guidelines, we will use systolic measurements.<p>\n",
    "\n",
    "* Code Explanation -\n",
    "   * We define two functions, categorize_old_guidelines and categorize_new_guidelines, to categorize individuals based on the old and new guidelines, respectively.\n",
    "   * We apply these categorization functions to the DataFrame and create two new columns, 'Old_Guidelines' and 'New_Guidelines'.\n",
    "   * We count the number of people in each category for both sets of guidelines and create pie charts to visualize the results.\n"
   ]
  },
  {
   "cell_type": "markdown",
   "metadata": {
    "colab_type": "text",
    "id": "2wH5ikUcbb16",
    "tags": []
   },
   "source": [
    "### <span style=\"color:magenta\">Q6: 10 pt:</span>\n",
    "Create a new variable \"age_class\" that is \"early\" if age < 40, \"middle\" if age is between 40 and 60 (inclusive) and \"late\" if age > 60.  Report the mean and median number of sit-ups counts for each of those categories.\n"
   ]
  },
  {
   "cell_type": "code",
   "execution_count": 66,
   "metadata": {
    "colab": {},
    "colab_type": "code",
    "id": "GneWWgFVt62N"
   },
   "outputs": [
    {
     "name": "stdout",
     "output_type": "stream",
     "text": [
      "Mean Sit-ups Count by Age Class:\n",
      "age_class\n",
      "early     45.533252\n",
      "middle    32.628928\n",
      "late      24.905405\n",
      "Name: sit-ups counts, dtype: float64\n",
      "\n",
      "Median Sit-ups Count by Age Class:\n",
      "age_class\n",
      "early     47.0\n",
      "middle    33.0\n",
      "late      26.0\n",
      "Name: sit-ups counts, dtype: float64\n"
     ]
    }
   ],
   "source": [
    "df['age_class'] = pd.cut(df['age'], bins=[0, 39, 60, float('inf')], labels=['early', 'middle', 'late'], right=False)\n",
    "\n",
    "# Calculate the mean and median sit-ups counts for each age class\n",
    "mean_situps_by_age_class = df.groupby('age_class')['sit-ups counts'].mean()\n",
    "median_situps_by_age_class = df.groupby('age_class')['sit-ups counts'].median()\n",
    "\n",
    "# Print the results\n",
    "print(\"Mean Sit-ups Count by Age Class:\")\n",
    "print(mean_situps_by_age_class)\n",
    "\n",
    "print(\"\\nMedian Sit-ups Count by Age Class:\")\n",
    "print(median_situps_by_age_class)"
   ]
  },
  {
   "cell_type": "markdown",
   "metadata": {},
   "source": [
    "### <span style=\"color:magenta\">Q7: 15 pt: </span>\n",
    "Calculate each person's Body Mass Index (BMI).  With the metric system, the formula for BMI is weight in kilograms divided by height in meters squared. Since height is commonly measured in centimeters, an alternate calculation formula, dividing the weight in kilograms by the height in centimeters squared, and then multiplying the result by 10,000, can be used. (https://www.cdc.gov/nccdphp/dnpao/growthcharts/training/bmiage/page5_1.html)\n",
    "\n",
    "Create two histograms of BMI: one for gender F and one for gender M.  Describe similarites and differences of the two histograms."
   ]
  },
  {
   "cell_type": "code",
   "execution_count": 67,
   "metadata": {},
   "outputs": [
    {
     "data": {
      "image/png": "[encoded data removed]",
      "text/plain": [
       "<Figure size 864x360 with 2 Axes>"
      ]
     },
     "metadata": {
      "needs_background": "light"
     },
     "output_type": "display_data"
    }
   ],
   "source": [
    "df['bmi'] = (df['weight_kg'] / ((df['height_cm'] / 100) ** 2))\n",
    "\n",
    "# Create separate DataFrames for gender F and gender M\n",
    "female_data = df[df['gender'] == 'F']\n",
    "male_data = df[df['gender'] == 'M']\n",
    "\n",
    "# Create subplots for BMI histograms\n",
    "fig, axs = plt.subplots(1, 2, figsize=(12, 5))\n",
    "\n",
    "# BMI Histogram for Gender F\n",
    "axs[0].hist(female_data['bmi'], bins=20, color='pink', alpha=0.7)\n",
    "axs[0].set_title('BMI Histogram - Female')\n",
    "axs[0].set_xlabel('BMI')\n",
    "axs[0].set_ylabel('Frequency')\n",
    "\n",
    "# BMI Histogram for Gender M\n",
    "axs[1].hist(male_data['bmi'], bins=20, color='blue', alpha=0.7)\n",
    "axs[1].set_title('BMI Histogram - Male')\n",
    "axs[1].set_xlabel('BMI')\n",
    "axs[1].set_ylabel('Frequency')\n",
    "\n",
    "# Adjust layout\n",
    "plt.tight_layout()\n",
    "\n",
    "# Show the plots\n",
    "plt.show()\n"
   ]
  },
  {
   "cell_type": "markdown",
   "metadata": {
    "colab_type": "text",
    "id": "CCuxztg3uYPQ"
   },
   "source": [
    "### Question 7 Explanation -\n",
    "\n",
    "* We can observe a similarities in the above histograms that most of the people (both male and female) have a BMI in the range of 20-25 and male and female BMIs show a similar increasing and decreasing trend.\n",
    "* The difference observed is that very less women have a BMI above 30 as compared to men."
   ]
  },
  {
   "cell_type": "markdown",
   "metadata": {
    "colab_type": "text",
    "id": "7n5ybXFQcR-g"
   },
   "source": [
    "### <span style=\"color:magenta\">Q8: 12 pt: </span>\n",
    "Compare the mean values of height, weight, body fat %, grip force, sit and bend forward, and sit-ups count for gender F vs. gender M.  You should use both quantitative and visual methods in your work.\n"
   ]
  },
  {
   "cell_type": "code",
   "execution_count": 68,
   "metadata": {
    "colab": {},
    "colab_type": "code",
    "id": "FoWTh2ekt8Wp"
   },
   "outputs": [
    {
     "data": {
      "text/html": [
       "<div>\n",
       "<style scoped>\n",
       "    .dataframe tbody tr th:only-of-type {\n",
       "        vertical-align: middle;\n",
       "    }\n",
       "\n",
       "    .dataframe tbody tr th {\n",
       "        vertical-align: top;\n",
       "    }\n",
       "\n",
       "    .dataframe thead th {\n",
       "        text-align: right;\n",
       "    }\n",
       "</style>\n",
       "<table border=\"1\" class=\"dataframe\">\n",
       "  <thead>\n",
       "    <tr style=\"text-align: right;\">\n",
       "      <th></th>\n",
       "      <th>height_cm</th>\n",
       "      <th>weight_kg</th>\n",
       "      <th>body fat_%</th>\n",
       "      <th>gripForce</th>\n",
       "      <th>sit and bend forward_cm</th>\n",
       "      <th>sit-ups counts</th>\n",
       "    </tr>\n",
       "    <tr>\n",
       "      <th>gender</th>\n",
       "      <th></th>\n",
       "      <th></th>\n",
       "      <th></th>\n",
       "      <th></th>\n",
       "      <th></th>\n",
       "      <th></th>\n",
       "    </tr>\n",
       "  </thead>\n",
       "  <tbody>\n",
       "    <tr>\n",
       "      <th>F</th>\n",
       "      <td>160.485404</td>\n",
       "      <td>56.905899</td>\n",
       "      <td>28.486085</td>\n",
       "      <td>25.817994</td>\n",
       "      <td>18.839791</td>\n",
       "      <td>30.888348</td>\n",
       "    </tr>\n",
       "    <tr>\n",
       "      <th>M</th>\n",
       "      <td>173.257399</td>\n",
       "      <td>73.580187</td>\n",
       "      <td>20.188151</td>\n",
       "      <td>43.448420</td>\n",
       "      <td>13.097073</td>\n",
       "      <td>44.939176</td>\n",
       "    </tr>\n",
       "  </tbody>\n",
       "</table>\n",
       "</div>"
      ],
      "text/plain": [
       "         height_cm  weight_kg  body fat_%  gripForce  sit and bend forward_cm  \\\n",
       "gender                                                                          \n",
       "F       160.485404  56.905899   28.486085  25.817994                18.839791   \n",
       "M       173.257399  73.580187   20.188151  43.448420                13.097073   \n",
       "\n",
       "        sit-ups counts  \n",
       "gender                  \n",
       "F            30.888348  \n",
       "M            44.939176  "
      ]
     },
     "execution_count": 68,
     "metadata": {},
     "output_type": "execute_result"
    }
   ],
   "source": [
    "df_mean = df.groupby('gender')[['height_cm', 'weight_kg', 'body fat_%', 'gripForce', 'sit and bend forward_cm', 'sit-ups counts']].mean()\n",
    "df_mean"
   ]
  },
  {
   "cell_type": "code",
   "execution_count": 69,
   "metadata": {},
   "outputs": [
    {
     "data": {
      "text/plain": [
       "<Figure size 720x720 with 0 Axes>"
      ]
     },
     "metadata": {},
     "output_type": "display_data"
    },
    {
     "data": {
      "image/png": "[encoded data removed]",
      "text/plain": [
       "<Figure size 432x288 with 1 Axes>"
      ]
     },
     "metadata": {
      "needs_background": "light"
     },
     "output_type": "display_data"
    }
   ],
   "source": [
    "plt.figure(figsize=(10, 10))\n",
    "\n",
    "# Create the bar plot\n",
    "df_mean.plot(kind='bar')\n",
    "plt.xlabel('Attributes')\n",
    "plt.ylabel('Mean Value')\n",
    "plt.title('Mean Values by Gender for Specified Columns')\n",
    "plt.legend(title='Attributes', bbox_to_anchor=(1.05, 1), loc='upper left')\n",
    "# Show the plot\n",
    "plt.show()"
   ]
  },
  {
   "cell_type": "markdown",
   "metadata": {
    "colab_type": "text",
    "id": "yN5zlizIuZa8"
   },
   "source": [
    "### Question 8 Explanation -\n",
    "* After observing the bar graphs plotted above, we can conclude that the mean is higher for males for the attributes height, weight, grip force and sit-up counts than females. Females have a higher mean for the attributes body fat % & sit and bend forward than males."
   ]
  },
  {
   "cell_type": "markdown",
   "metadata": {
    "colab_type": "text",
    "id": "wGoiQk8XbqHw"
   },
   "source": [
    "### <span style=\"color:magenta\">Q9: 18 pt: </span>\n",
    "Take a look at gripForce (a measure of strength), \"sit and bend forward\" (a measure of flexibility), and \"sit-ups count\" (a measures of strength and endurance of the abdominals and hip-flexor muscles).  For each of those measures, calculate their z-scores (i.e. subtract the mean of the variable from each observation, then divide by the standard deviation of that score).  Create an overall fitness score by adding the z-scores for each of those variables together, then use `pd.qcut()` (not `pd.cut()`) to assign them to five categories ranging from lowest score to highest score.  \n",
    "\n",
    "a) Report the number of individuals in each of the resulting categories.\n",
    "\n",
    "b) Comment on the degree to which your categories correspond to the `class` column."
   ]
  },
  {
   "cell_type": "code",
   "execution_count": 70,
   "metadata": {
    "colab": {},
    "colab_type": "code",
    "id": "FoWTh2ekt8Wp"
   },
   "outputs": [
    {
     "name": "stdout",
     "output_type": "stream",
     "text": [
      "Number of Individuals in Each Fitness Category:\n",
      "Lowest     2679\n",
      "Medium     2679\n",
      "Highest    2679\n",
      "Low        2678\n",
      "High       2678\n",
      "Name: fitness_category, dtype: int64\n",
      "\n",
      "Number of Individuals in Each 'class' Category:\n",
      "C    3349\n",
      "D    3349\n",
      "A    3348\n",
      "B    3347\n",
      "Name: class, dtype: int64\n",
      "\n",
      "Number of People from Each Fitness Category in Each Class:\n",
      "fitness_category  Lowest  Low  Medium  High  Highest\n",
      "class                                               \n",
      "A                     31  358     728   809     1422\n",
      "B                    244  732     717   860      794\n",
      "C                    698  783     759   751      358\n",
      "D                   1706  805     475   258      105\n"
     ]
    }
   ],
   "source": [
    "#Calculate z scores for each variable\n",
    "\n",
    "df['z_gripForce'] = (df['gripForce'] - df['gripForce'].mean()) / df['gripForce'].std()\n",
    "df['z_sit_and_bend'] = (df['sit and bend forward_cm'] - df['sit and bend forward_cm'].mean()) / df['sit and bend forward_cm'].std()\n",
    "\n",
    "df['z_sit_ups'] = (df['sit-ups counts'] - df['sit-ups counts'].mean()) / df['sit-ups counts'].std()\n",
    "\n",
    "# Create an overall fitness score by summing z-scores\n",
    "df['fitness_score'] = df['z_gripForce'] + df['z_sit_and_bend'] + df['z_sit_ups']\n",
    "\n",
    "# Assign individuals to five categories using qcut\n",
    "df['fitness_category'] = pd.qcut(df['fitness_score'], q=5, labels=['Lowest', 'Low', 'Medium', 'High', 'Highest'])\n",
    "\n",
    "# a) Report the number of individuals in each category\n",
    "category_counts = df['fitness_category'].value_counts()\n",
    "\n",
    "print(\"Number of Individuals in Each Fitness Category:\")\n",
    "print(category_counts)\n",
    "\n",
    "# b) Compare with the 'class' column\n",
    "class_counts = df['class'].value_counts()\n",
    "\n",
    "print(\"\\nNumber of Individuals in Each 'class' Category:\")\n",
    "print(class_counts)\n",
    "\n",
    "fitness_class_counts = df.groupby(['class', 'fitness_category']).size().unstack(fill_value=0)\n",
    "print(\"\\nNumber of People from Each Fitness Category in Each Class:\")\n",
    "print(fitness_class_counts)"
   ]
  },
  {
   "cell_type": "markdown",
   "metadata": {},
   "source": [
    "### Question 9 Explanation -\n",
    "\n",
    "Part B: Comment on the Degree of Correspondence with the 'class' Column:\n",
    "\n",
    "The 'class' column likely represents some form of classification or grouping based on fitness levels or other criteria. To assess the degree of correspondence between the 'fitness_category' and 'class' columns, we can compare the two sets of categories.\n",
    "\n",
    "Here, we can observe that class 'D' has the most number of people belonging to fitness category 'Lowest' and class 'A' has the most number of people from fitness category 'Highest'"
   ]
  },
  {
   "cell_type": "markdown",
   "metadata": {
    "colab_type": "text",
    "id": "zKkwrNfbJ9zN"
   },
   "source": [
    "### IMPORTANT: Ensure your complete notebook runs without errors from top to bottom (check by using \"Run All\").\n",
    "\n",
    "## Please submit your completed notebook in .IPYNB and .HTML formats via Canvas"
   ]
  }
 ],
 "metadata": {
  "colab": {
   "collapsed_sections": [],
   "name": "SI 618 FA 2018 Homework 1.ipynb",
   "provenance": [],
   "version": "0.3.2"
  },
  "kernelspec": {
   "display_name": "Python 3 (ipykernel)",
   "language": "python",
   "name": "python3"
  },
  "language_info": {
   "codemirror_mode": {
    "name": "ipython",
    "version": 3
   },
   "file_extension": ".py",
   "mimetype": "text/x-python",
   "name": "python",
   "nbconvert_exporter": "python",
   "pygments_lexer": "ipython3",
   "version": "3.9.2"
  }
 },
 "nbformat": 4,
 "nbformat_minor": 4
}
